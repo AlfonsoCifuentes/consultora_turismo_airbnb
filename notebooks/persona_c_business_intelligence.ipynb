{
 "cells": [
  {
   "cell_type": "markdown",
   "id": "7eee74cc",
   "metadata": {},
   "source": [
    "# 📊 PERSONA C: BUSINESS INTELLIGENCE\n",
    "## Dashboards Ejecutivos y Visualización para Toma de Decisiones\n",
    "\n",
    "**Responsable:** Especialista en Business Intelligence  \n",
    "**Objetivo:** Crear dashboards interactivos y visualizaciones ejecutivas para stakeholders  \n",
    "**Audiencia:** Directivos, gestores urbanos, consultores estratégicos  \n",
    "\n",
    "---\n",
    "\n",
    "### 🎯 Alcance del Análisis\n",
    "- **Dashboards ejecutivos** con métricas clave\n",
    "- **Visualizaciones interactivas** para exploración de datos\n",
    "- **Reportes automatizados** para stakeholders\n",
    "- **Alertas y recomendaciones** basadas en datos\n",
    "- **Exportación** de insights para presentaciones ejecutivas"
   ]
  },
  {
   "cell_type": "markdown",
   "id": "ee92a22d",
   "metadata": {},
   "source": [
    "## 📋 Plan de Trabajo\n",
    "\n",
    "### Fase 1: Setup y Configuración\n",
    "1. **Configuración del entorno BI**\n",
    "2. **Carga de datasets procesados** (Personas A y B)\n",
    "3. **Definición de KPIs ejecutivos**\n",
    "\n",
    "### Fase 2: Dashboards Principales\n",
    "4. **Dashboard Ejecutivo General**\n",
    "5. **Dashboard por Ciudad**\n",
    "6. **Dashboard de Zonas Críticas**\n",
    "\n",
    "### Fase 3: Visualizaciones Avanzadas\n",
    "7. **Mapas interactivos** con datos georreferenciados\n",
    "8. **Gráficos de tendencias** y evolución temporal\n",
    "9. **Análisis comparativo** entre ciudades\n",
    "\n",
    "### Fase 4: Reportes y Alertas\n",
    "10. **Sistema de alertas** automáticas\n",
    "11. **Reportes ejecutivos** automatizados\n",
    "12. **Exportación** para presentaciones"
   ]
  },
  {
   "cell_type": "markdown",
   "id": "5e0eae03",
   "metadata": {},
   "source": [
    "## 🛠️ Configuración del Entorno BI"
   ]
  },
  {
   "cell_type": "code",
   "execution_count": 1,
   "id": "48e5f2e0",
   "metadata": {},
   "outputs": [
    {
     "data": {
      "text/html": [
       "        <script type=\"text/javascript\">\n",
       "        window.PlotlyConfig = {MathJaxConfig: 'local'};\n",
       "        if (window.MathJax && window.MathJax.Hub && window.MathJax.Hub.Config) {window.MathJax.Hub.Config({SVG: {font: \"STIX-Web\"}});}\n",
       "        </script>\n",
       "        <script type=\"module\">import \"https://cdn.plot.ly/plotly-3.0.1.min\"</script>\n",
       "        "
      ]
     },
     "metadata": {},
     "output_type": "display_data"
    },
    {
     "name": "stdout",
     "output_type": "stream",
     "text": [
      "✅ Librerías importadas correctamente\n",
      "📅 Fecha de análisis: 2025-06-25 21:31:55\n"
     ]
    }
   ],
   "source": [
    "# Importación de librerías para Business Intelligence\n",
    "import pandas as pd\n",
    "import numpy as np\n",
    "import plotly.express as px\n",
    "import plotly.graph_objects as go\n",
    "from plotly.subplots import make_subplots\n",
    "import plotly.offline as pyo\n",
    "\n",
    "# Librerías para dashboards y visualización\n",
    "import dash\n",
    "from dash import dcc, html, Input, Output, callback\n",
    "import streamlit as st\n",
    "\n",
    "# Librerías para análisis y manipulación de datos\n",
    "import warnings\n",
    "import json\n",
    "from pathlib import Path\n",
    "from datetime import datetime, timedelta\n",
    "\n",
    "# Configuración de visualización\n",
    "warnings.filterwarnings('ignore')\n",
    "pd.set_option('display.max_columns', None)\n",
    "pd.set_option('display.width', None)\n",
    "\n",
    "# Configuración de Plotly para modo offline\n",
    "pyo.init_notebook_mode(connected=True)\n",
    "\n",
    "print(\"✅ Librerías importadas correctamente\")\n",
    "print(f\"📅 Fecha de análisis: {datetime.now().strftime('%Y-%m-%d %H:%M:%S')}\")"
   ]
  },
  {
   "cell_type": "code",
   "execution_count": 2,
   "id": "6e62e300",
   "metadata": {},
   "outputs": [
    {
     "name": "stdout",
     "output_type": "stream",
     "text": [
      "📁 Directorio principal: e:\\Proyectos\\VisualStudio\\Upgrade_Data_AI\\consultores_turismo_airbnb\\notebooks\n",
      "📂 Directorio BI: e:\\Proyectos\\VisualStudio\\Upgrade_Data_AI\\consultores_turismo_airbnb\\notebooks\\outputs\\business_intelligence\n",
      "📊 Directorio dashboards: e:\\Proyectos\\VisualStudio\\Upgrade_Data_AI\\consultores_turismo_airbnb\\notebooks\\outputs\\business_intelligence\\dashboards\n",
      "📋 Directorio reportes: e:\\Proyectos\\VisualStudio\\Upgrade_Data_AI\\consultores_turismo_airbnb\\notebooks\\outputs\\business_intelligence\\reports\n",
      "🎨 Paleta de colores configurada\n"
     ]
    }
   ],
   "source": [
    "# Configuración de rutas del proyecto\n",
    "PROJECT_ROOT = Path.cwd()\n",
    "DATA_PROCESSED = PROJECT_ROOT / 'data' / 'processed'\n",
    "DATA_EXTERNAL = PROJECT_ROOT / 'data' / 'external'\n",
    "OUTPUTS = PROJECT_ROOT / 'outputs'\n",
    "BI_OUTPUT = OUTPUTS / 'business_intelligence'\n",
    "DASHBOARDS_OUTPUT = BI_OUTPUT / 'dashboards'\n",
    "REPORTS_OUTPUT = BI_OUTPUT / 'reports'\n",
    "\n",
    "# Crear directorios si no existen\n",
    "BI_OUTPUT.mkdir(parents=True, exist_ok=True)\n",
    "DASHBOARDS_OUTPUT.mkdir(parents=True, exist_ok=True)\n",
    "REPORTS_OUTPUT.mkdir(parents=True, exist_ok=True)\n",
    "\n",
    "# Paleta de colores corporativa\n",
    "COLORES_CORPORATIVOS = {\n",
    "    'madrid': '#C41E3A',      # Rojo Madrid\n",
    "    'barcelona': '#004D9F',   # Azul Barcelona\n",
    "    'mallorca': '#FF6B35',    # Naranja Mallorca\n",
    "    'critico': '#FF4444',     # Rojo crítico\n",
    "    'alto': '#FF8800',        # Naranja alto\n",
    "    'moderado': '#FFCC00',    # Amarillo moderado\n",
    "    'bajo': '#88CC00',        # Verde claro bajo\n",
    "    'muy_bajo': '#00AA55',    # Verde muy bajo\n",
    "    'primario': '#2E86AB',    # Azul primario\n",
    "    'secundario': '#A23B72',  # Púrpura secundario\n",
    "    'fondo': '#F8F9FA',       # Gris claro fondo\n",
    "    'texto': '#212529'        # Gris oscuro texto\n",
    "}\n",
    "\n",
    "print(f\"📁 Directorio principal: {PROJECT_ROOT}\")\n",
    "print(f\"📂 Directorio BI: {BI_OUTPUT}\")\n",
    "print(f\"📊 Directorio dashboards: {DASHBOARDS_OUTPUT}\")\n",
    "print(f\"📋 Directorio reportes: {REPORTS_OUTPUT}\")\n",
    "print(\"🎨 Paleta de colores configurada\")"
   ]
  },
  {
   "cell_type": "markdown",
   "id": "27fea8d3",
   "metadata": {},
   "source": [
    "## 📊 Carga de Datasets y Definición de KPIs Ejecutivos\n",
    "\n",
    "En esta sección cargaremos todos los datasets procesados por el Data Engineer y el Data Analyst, y definiremos los KPIs ejecutivos clave para los dashboards de alta dirección."
   ]
  },
  {
   "cell_type": "code",
   "execution_count": 7,
   "id": "449833df",
   "metadata": {},
   "outputs": [
    {
     "name": "stdout",
     "output_type": "stream",
     "text": [
      "🔄 Cargando datasets para Business Intelligence...\n",
      "✅ Datasets cargados correctamente:\n",
      "   📊 kpis_por_barrio: (252, 7)\n",
      "   📊 kpis_por_ciudad: (3, 10)\n",
      "   📊 kpis_impacto_urbano: (3, 18)\n",
      "   📊 listings_unificado: (61114, 10)\n",
      "   📊 dataset_completo_bi: (252, 10)\n",
      "   📊 agregaciones_ciudad: (3, 6)\n",
      "   📊 top_barrios: (15, 4)\n",
      "   📊 precios_alquileres: (3, 4)\n",
      "   📊 precios_inmobiliarios: (18, 4)\n",
      "   📊 poblacion_distritos: (41, 5)\n"
     ]
    }
   ],
   "source": [
    "# =============================================================================\n",
    "# CARGA DE DATASETS PROCESADOS\n",
    "# =============================================================================\n",
    "\n",
    "import os\n",
    "\n",
    "def cargar_datasets_bi():\n",
    "    \"\"\"\n",
    "    Carga todos los datasets necesarios para Business Intelligence\n",
    "    \"\"\"\n",
    "    datasets = {}\n",
    "    \n",
    "    # Rutas de datasets procesados\n",
    "    data_processed = PROJECT_ROOT.parent / 'data' / 'processed'\n",
    "    output_bi = PROJECT_ROOT.parent / 'outputs' / 'business_intelligence_export'\n",
    "    \n",
    "    try:\n",
    "        # Datasets principales procesados\n",
    "        datasets['kpis_por_barrio'] = pd.read_csv(data_processed / 'kpis_por_barrio.csv')\n",
    "        datasets['kpis_por_ciudad'] = pd.read_csv(data_processed / 'kpis_por_ciudad.csv')\n",
    "        datasets['kpis_impacto_urbano'] = pd.read_csv(data_processed / 'kpis_impacto_urbano.csv')\n",
    "        datasets['listings_unificado'] = pd.read_csv(data_processed / 'listings_unificado.csv')\n",
    "        \n",
    "        # Datasets BI específicos\n",
    "        datasets['dataset_completo_bi'] = pd.read_csv(output_bi / 'dataset_completo_para_bi.csv')\n",
    "        datasets['agregaciones_ciudad'] = pd.read_csv(output_bi / 'agregaciones_por_ciudad.csv')\n",
    "        datasets['top_barrios'] = pd.read_csv(output_bi / 'top_15_barrios.csv')\n",
    "        \n",
    "        # Datos adicionales\n",
    "        datasets['precios_alquileres'] = pd.read_csv(data_processed / 'precios_alquileres_reales.csv')\n",
    "        datasets['precios_inmobiliarios'] = pd.read_csv(data_processed / 'precios_inmobiliarios.csv')\n",
    "        datasets['poblacion_distritos'] = pd.read_csv(data_processed / 'poblacion_distritos.csv')\n",
    "        \n",
    "        print(\"✅ Datasets cargados correctamente:\")\n",
    "        for key, df in datasets.items():\n",
    "            print(f\"   📊 {key}: {df.shape}\")\n",
    "            \n",
    "        return datasets\n",
    "        \n",
    "    except Exception as e:\n",
    "        print(f\"❌ Error al cargar datasets: {e}\")\n",
    "        return None\n",
    "\n",
    "# Cargar todos los datasets\n",
    "print(\"🔄 Cargando datasets para Business Intelligence...\")\n",
    "datasets = cargar_datasets_bi()"
   ]
  },
  {
   "cell_type": "code",
   "execution_count": 8,
   "id": "cfda9f2d",
   "metadata": {},
   "outputs": [
    {
     "name": "stdout",
     "output_type": "stream",
     "text": [
      "🔄 Calculando KPIs ejecutivos...\n"
     ]
    },
    {
     "ename": "KeyError",
     "evalue": "'Column not found: num_listings'",
     "output_type": "error",
     "traceback": [
      "\u001b[31m---------------------------------------------------------------------------\u001b[39m",
      "\u001b[31mKeyError\u001b[39m                                  Traceback (most recent call last)",
      "\u001b[36mCell\u001b[39m\u001b[36m \u001b[39m\u001b[32mIn[8]\u001b[39m\u001b[32m, line 58\u001b[39m\n\u001b[32m     56\u001b[39m \u001b[38;5;66;03m# Calcular KPIs ejecutivos\u001b[39;00m\n\u001b[32m     57\u001b[39m \u001b[38;5;28mprint\u001b[39m(\u001b[33m\"\u001b[39m\u001b[33m🔄 Calculando KPIs ejecutivos...\u001b[39m\u001b[33m\"\u001b[39m)\n\u001b[32m---> \u001b[39m\u001b[32m58\u001b[39m kpis_ejecutivos = \u001b[43mcalcular_kpis_ejecutivos\u001b[49m\u001b[43m(\u001b[49m\u001b[43mdatasets\u001b[49m\u001b[43m)\u001b[49m\n",
      "\u001b[36mCell\u001b[39m\u001b[36m \u001b[39m\u001b[32mIn[8]\u001b[39m\u001b[32m, line 15\u001b[39m, in \u001b[36mcalcular_kpis_ejecutivos\u001b[39m\u001b[34m(datasets)\u001b[39m\n\u001b[32m     12\u001b[39m ciudad_data = datasets[\u001b[33m'\u001b[39m\u001b[33magregaciones_ciudad\u001b[39m\u001b[33m'\u001b[39m]\n\u001b[32m     14\u001b[39m \u001b[38;5;66;03m# Métricas principales por ciudad\u001b[39;00m\n\u001b[32m---> \u001b[39m\u001b[32m15\u001b[39m kpis[\u001b[33m'\u001b[39m\u001b[33mtotal_listings\u001b[39m\u001b[33m'\u001b[39m] = \u001b[43mciudad_data\u001b[49m\u001b[43m.\u001b[49m\u001b[43mgroupby\u001b[49m\u001b[43m(\u001b[49m\u001b[33;43m'\u001b[39;49m\u001b[33;43mciudad\u001b[39;49m\u001b[33;43m'\u001b[39;49m\u001b[43m)\u001b[49m\u001b[43m[\u001b[49m\u001b[33;43m'\u001b[39;49m\u001b[33;43mnum_listings\u001b[39;49m\u001b[33;43m'\u001b[39;49m\u001b[43m]\u001b[49m.sum().to_dict()\n\u001b[32m     16\u001b[39m kpis[\u001b[33m'\u001b[39m\u001b[33mprecio_promedio\u001b[39m\u001b[33m'\u001b[39m] = ciudad_data.groupby(\u001b[33m'\u001b[39m\u001b[33mciudad\u001b[39m\u001b[33m'\u001b[39m)[\u001b[33m'\u001b[39m\u001b[33mprecio_medio\u001b[39m\u001b[33m'\u001b[39m].mean().to_dict()\n\u001b[32m     17\u001b[39m kpis[\u001b[33m'\u001b[39m\u001b[33mimpacto_critico\u001b[39m\u001b[33m'\u001b[39m] = ciudad_data.groupby(\u001b[33m'\u001b[39m\u001b[33mciudad\u001b[39m\u001b[33m'\u001b[39m)[\u001b[33m'\u001b[39m\u001b[33mnum_listings\u001b[39m\u001b[33m'\u001b[39m].sum().to_dict()\n",
      "\u001b[36mFile \u001b[39m\u001b[32mc:\\Users\\Fonnzer\\AppData\\Local\\Programs\\Python\\Python313\\Lib\\site-packages\\pandas\\core\\groupby\\generic.py:1951\u001b[39m, in \u001b[36mDataFrameGroupBy.__getitem__\u001b[39m\u001b[34m(self, key)\u001b[39m\n\u001b[32m   1944\u001b[39m \u001b[38;5;28;01mif\u001b[39;00m \u001b[38;5;28misinstance\u001b[39m(key, \u001b[38;5;28mtuple\u001b[39m) \u001b[38;5;129;01mand\u001b[39;00m \u001b[38;5;28mlen\u001b[39m(key) > \u001b[32m1\u001b[39m:\n\u001b[32m   1945\u001b[39m     \u001b[38;5;66;03m# if len == 1, then it becomes a SeriesGroupBy and this is actually\u001b[39;00m\n\u001b[32m   1946\u001b[39m     \u001b[38;5;66;03m# valid syntax, so don't raise\u001b[39;00m\n\u001b[32m   1947\u001b[39m     \u001b[38;5;28;01mraise\u001b[39;00m \u001b[38;5;167;01mValueError\u001b[39;00m(\n\u001b[32m   1948\u001b[39m         \u001b[33m\"\u001b[39m\u001b[33mCannot subset columns with a tuple with more than one element. \u001b[39m\u001b[33m\"\u001b[39m\n\u001b[32m   1949\u001b[39m         \u001b[33m\"\u001b[39m\u001b[33mUse a list instead.\u001b[39m\u001b[33m\"\u001b[39m\n\u001b[32m   1950\u001b[39m     )\n\u001b[32m-> \u001b[39m\u001b[32m1951\u001b[39m \u001b[38;5;28;01mreturn\u001b[39;00m \u001b[38;5;28;43msuper\u001b[39;49m\u001b[43m(\u001b[49m\u001b[43m)\u001b[49m\u001b[43m.\u001b[49m\u001b[34;43m__getitem__\u001b[39;49m\u001b[43m(\u001b[49m\u001b[43mkey\u001b[49m\u001b[43m)\u001b[49m\n",
      "\u001b[36mFile \u001b[39m\u001b[32mc:\\Users\\Fonnzer\\AppData\\Local\\Programs\\Python\\Python313\\Lib\\site-packages\\pandas\\core\\base.py:244\u001b[39m, in \u001b[36mSelectionMixin.__getitem__\u001b[39m\u001b[34m(self, key)\u001b[39m\n\u001b[32m    242\u001b[39m \u001b[38;5;28;01melse\u001b[39;00m:\n\u001b[32m    243\u001b[39m     \u001b[38;5;28;01mif\u001b[39;00m key \u001b[38;5;129;01mnot\u001b[39;00m \u001b[38;5;129;01min\u001b[39;00m \u001b[38;5;28mself\u001b[39m.obj:\n\u001b[32m--> \u001b[39m\u001b[32m244\u001b[39m         \u001b[38;5;28;01mraise\u001b[39;00m \u001b[38;5;167;01mKeyError\u001b[39;00m(\u001b[33mf\u001b[39m\u001b[33m\"\u001b[39m\u001b[33mColumn not found: \u001b[39m\u001b[38;5;132;01m{\u001b[39;00mkey\u001b[38;5;132;01m}\u001b[39;00m\u001b[33m\"\u001b[39m)\n\u001b[32m    245\u001b[39m     ndim = \u001b[38;5;28mself\u001b[39m.obj[key].ndim\n\u001b[32m    246\u001b[39m     \u001b[38;5;28;01mreturn\u001b[39;00m \u001b[38;5;28mself\u001b[39m._gotitem(key, ndim=ndim)\n",
      "\u001b[31mKeyError\u001b[39m: 'Column not found: num_listings'"
     ]
    }
   ],
   "source": [
    "# =============================================================================\n",
    "# DEFINICIÓN DE KPIs EJECUTIVOS\n",
    "# =============================================================================\n",
    "\n",
    "def calcular_kpis_ejecutivos(datasets):\n",
    "    \"\"\"\n",
    "    Calcula los KPIs ejecutivos más importantes para dashboards\n",
    "    \"\"\"\n",
    "    kpis = {}\n",
    "    \n",
    "    # KPIs por ciudad (desde agregaciones_ciudad)\n",
    "    ciudad_data = datasets['agregaciones_ciudad']\n",
    "    \n",
    "    # Métricas principales por ciudad\n",
    "    kpis['total_listings'] = ciudad_data.groupby('ciudad')['num_listings'].sum().to_dict()\n",
    "    kpis['precio_promedio'] = ciudad_data.groupby('ciudad')['precio_medio'].mean().to_dict()\n",
    "    kpis['impacto_critico'] = ciudad_data.groupby('ciudad')['num_listings'].sum().to_dict()\n",
    "    \n",
    "    # KPIs de impacto urbano\n",
    "    impacto_data = datasets['kpis_impacto_urbano']\n",
    "    \n",
    "    kpis['saturacion_por_ciudad'] = {}\n",
    "    kpis['concentracion_por_ciudad'] = {}\n",
    "    kpis['dispersion_precios'] = {}\n",
    "    \n",
    "    for _, row in impacto_data.iterrows():\n",
    "        ciudad = row['ciudad']\n",
    "        kpis['saturacion_por_ciudad'][ciudad] = row.get('saturacion_mercado', 0)\n",
    "        kpis['concentracion_por_ciudad'][ciudad] = row.get('concentracion_espacial', 0)\n",
    "        kpis['dispersion_precios'][ciudad] = row.get('dispersion_precios', 0)\n",
    "    \n",
    "    # Zonas críticas (top 15 barrios)\n",
    "    top_barrios = datasets['top_barrios']\n",
    "    kpis['zonas_criticas'] = len(top_barrios)\n",
    "    kpis['barrios_mas_impactados'] = top_barrios.head(5)['barrio'].tolist()\n",
    "    \n",
    "    # Resumen ejecutivo\n",
    "    total_listings = sum(kpis['total_listings'].values())\n",
    "    precio_medio_general = np.mean(list(kpis['precio_promedio'].values()))\n",
    "    \n",
    "    kpis['resumen'] = {\n",
    "        'total_listings_todas_ciudades': total_listings,\n",
    "        'precio_medio_todas_ciudades': round(precio_medio_general, 2),\n",
    "        'ciudades_analizadas': len(kpis['total_listings']),\n",
    "        'fecha_analisis': datetime.now().strftime('%Y-%m-%d')\n",
    "    }\n",
    "    \n",
    "    print(\"✅ KPIs ejecutivos calculados:\")\n",
    "    print(f\"   📊 Total listings: {total_listings:,}\")\n",
    "    print(f\"   💰 Precio medio: €{precio_medio_general:.2f}\")\n",
    "    print(f\"   🏙️ Ciudades: {len(kpis['total_listings'])}\")\n",
    "    print(f\"   ⚠️ Zonas críticas: {kpis['zonas_criticas']}\")\n",
    "    \n",
    "    return kpis\n",
    "\n",
    "# Calcular KPIs ejecutivos\n",
    "print(\"🔄 Calculando KPIs ejecutivos...\")\n",
    "kpis_ejecutivos = calcular_kpis_ejecutivos(datasets)"
   ]
  },
  {
   "cell_type": "code",
   "execution_count": 9,
   "id": "d86bd546",
   "metadata": {},
   "outputs": [
    {
     "name": "stdout",
     "output_type": "stream",
     "text": [
      "🔍 Explorando estructura de datasets...\n",
      "\n",
      "📊 kpis_por_barrio:\n",
      "   Dimensiones: (252, 7)\n",
      "   Columnas: ['ciudad', 'barrio', 'total_listings', 'listings_entire_home', 'capacidad_total', 'precio_medio_euros', 'ratio_entire_home_pct']\n",
      "   Primeras filas:\n",
      "      ciudad    barrio  ...  precio_medio_euros  ratio_entire_home_pct\n",
      "0  madrid  Cármenes  ...                 NaN                  40.00\n",
      "1  madrid       Sol  ...                 NaN                  73.15\n",
      "--------------------------------------------------------------------------------\n",
      "📊 kpis_por_ciudad:\n",
      "   Dimensiones: (3, 10)\n",
      "   Columnas: ['ciudad', 'total_listings', 'listings_entire_home', 'capacidad_total', 'precio_medio_euros', 'poblacion_total', 'superficie_km2', 'densidad_listings_km2', 'densidad_listings_1000hab', 'ratio_entire_home_pct']\n",
      "   Primeras filas:\n",
      "         ciudad  total_listings  ...  densidad_listings_1000hab  ratio_entire_home_pct\n",
      "0     madrid           25288  ...                       7.71                  66.45\n",
      "1  barcelona           19422  ...                      11.87                  61.05\n",
      "--------------------------------------------------------------------------------\n",
      "📊 kpis_impacto_urbano:\n",
      "   Dimensiones: (3, 18)\n",
      "   Columnas: ['ciudad', 'total_listings', 'listings_entire_home', 'capacidad_total', 'precio_medio_euros', 'poblacion_total', 'superficie_km2', 'densidad_listings_km2', 'densidad_listings_1000hab', 'ratio_entire_home_pct', 'alquiler_mensual_real_euros', 'alquiler_diario_real_euros', 'fuente', 'nivel_saturacion', 'capacidad_turistica_vs_poblacion_pct', 'evaluacion_sobrecarga', 'indice_impacto_urbano', 'clasificacion_impacto']\n",
      "   Primeras filas:\n",
      "         ciudad  total_listings  ...  indice_impacto_urbano  clasificacion_impacto\n",
      "0     madrid           25288  ...                   15.4         🟢 IMPACTO BAJO\n",
      "1  barcelona           19422  ...                   23.7         🟢 IMPACTO BAJO\n",
      "--------------------------------------------------------------------------------\n",
      "📊 listings_unificado:\n",
      "   Dimensiones: (61114, 10)\n",
      "   Columnas: ['id', 'ciudad', 'name', 'neighbourhood_cleansed', 'distrito', 'latitude', 'longitude', 'room_type', 'minimum_nights', 'availability_365']\n",
      "   Primeras filas:\n",
      "         id  ciudad  ... minimum_nights availability_365\n",
      "0  21853  madrid  ...              4              233\n",
      "1  30320  madrid  ...              5                0\n",
      "--------------------------------------------------------------------------------\n",
      "📊 dataset_completo_bi:\n",
      "   Dimensiones: (252, 10)\n",
      "   Columnas: ['ciudad', 'barrio', 'total_listings', 'listings_entire_home', 'capacidad_total', 'precio_medio_euros', 'ratio_entire_home_pct', 'cluster', 'cluster_nombre', 'categoria_impacto']\n",
      "   Primeras filas:\n",
      "      ciudad    barrio  ...        cluster_nombre  categoria_impacto\n",
      "0  madrid  Cármenes  ...  🟢 Actividad Moderada               Bajo\n",
      "1  madrid       Sol  ...  🟠 Alta Concentración            Crítico\n",
      "--------------------------------------------------------------------------------\n",
      "📊 agregaciones_ciudad:\n",
      "   Dimensiones: (3, 6)\n",
      "   Columnas: ['ciudad', 'total_listings_mean', 'total_listings_max', 'total_listings_count', 'listings_entire_home_mean', 'ratio_entire_home_pct_mean']\n",
      "   Primeras filas:\n",
      "         ciudad  total_listings_mean  ...  listings_entire_home_mean  ratio_entire_home_pct_mean\n",
      "0  barcelona               273.55  ...                     167.01                       49.91\n",
      "1     madrid               197.56  ...                     131.29                       52.07\n",
      "--------------------------------------------------------------------------------\n",
      "📊 top_barrios:\n",
      "   Dimensiones: (15, 4)\n",
      "   Columnas: ['ciudad', 'barrio', 'total_listings', 'categoria_impacto']\n",
      "   Primeras filas:\n",
      "        ciudad       barrio  total_listings categoria_impacto\n",
      "0    madrid  Embajadores            2801           Crítico\n",
      "1  mallorca     Pollença            2731           Crítico\n",
      "--------------------------------------------------------------------------------\n",
      "📊 precios_alquileres:\n",
      "   Dimensiones: (3, 4)\n",
      "   Columnas: ['ciudad', 'alquiler_mensual_real_euros', 'alquiler_diario_real_euros', 'fuente']\n",
      "   Primeras filas:\n",
      "         ciudad  alquiler_mensual_real_euros  alquiler_diario_real_euros                                  fuente\n",
      "0     madrid                        887.4                       29.58  Datos reales mercado inmobiliario 2024\n",
      "1  barcelona                        902.8                       30.09  Datos reales mercado inmobiliario 2024\n",
      "--------------------------------------------------------------------------------\n",
      "📊 precios_inmobiliarios:\n",
      "   Dimensiones: (18, 4)\n",
      "   Columnas: ['ciudad', 'zona', 'precio_alquiler_m2', 'precio_compra_m2']\n",
      "   Primeras filas:\n",
      "      ciudad      zona  precio_alquiler_m2  precio_compra_m2\n",
      "0  madrid    Centro                22.5              6500\n",
      "1  madrid  Chamberí                18.9              5800\n",
      "--------------------------------------------------------------------------------\n",
      "📊 poblacion_distritos:\n",
      "   Dimensiones: (41, 5)\n",
      "   Columnas: ['ciudad', 'distrito', 'poblacion', 'superficie_km2', 'densidad_hab_km2']\n",
      "   Primeras filas:\n",
      "         ciudad      distrito  poblacion  superficie_km2  densidad_hab_km2\n",
      "0  barcelona  Ciutat Vella     103721            4.18      24813.636364\n",
      "1  barcelona      Eixample     265102            7.46      35536.461126\n",
      "--------------------------------------------------------------------------------\n"
     ]
    }
   ],
   "source": [
    "# =============================================================================\n",
    "# EXPLORACIÓN DE DATASETS DISPONIBLES\n",
    "# =============================================================================\n",
    "\n",
    "def explorar_datasets(datasets):\n",
    "    \"\"\"\n",
    "    Explora la estructura de los datasets cargados\n",
    "    \"\"\"\n",
    "    print(\"🔍 Explorando estructura de datasets...\\n\")\n",
    "    \n",
    "    for name, df in datasets.items():\n",
    "        print(f\"📊 {name}:\")\n",
    "        print(f\"   Dimensiones: {df.shape}\")\n",
    "        print(f\"   Columnas: {list(df.columns)}\")\n",
    "        if df.shape[0] > 0:\n",
    "            print(f\"   Primeras filas:\")\n",
    "            print(f\"   {df.head(2).to_string(max_cols=5)}\")\n",
    "        print(\"-\" * 80)\n",
    "\n",
    "# Explorar datasets\n",
    "explorar_datasets(datasets)"
   ]
  },
  {
   "cell_type": "code",
   "execution_count": 13,
   "id": "8320fe4a",
   "metadata": {},
   "outputs": [
    {
     "name": "stdout",
     "output_type": "stream",
     "text": [
      "🏛️ Cargando datos económicos de turismo...\n",
      "   📊 Gasto Turístico Interior: (144, 4)\n",
      "   📋 Columnas: ['PIB y sus componentes', 'Valor absoluto/porcentaje/índice', 'Periodo', 'Total']\n",
      "   💰 Aportación PIB: (3, 4)\n",
      "   📋 Columnas: ['ï»¿Variable1', 'Valor1', 'PERIODO', 'VALOR']\n",
      "\n",
      "✅ Datos económicos procesados:\n",
      "   📅 Período: 2021-2022\n",
      "   💸 Gasto turístico promedio: 119044.8M €\n",
      "   🏛️ Aportación PIB promedio: 126604.5M €\n",
      "\n",
      "📊 Total datasets disponibles: 13\n"
     ]
    }
   ],
   "source": [
    "# =============================================================================\n",
    "# CARGA Y PROCESAMIENTO DE NUEVOS DATOS: TURISMO Y PIB\n",
    "# =============================================================================\n",
    "\n",
    "def cargar_datos_turismo_pib():\n",
    "    \"\"\"\n",
    "    Carga y procesa los nuevos datos de turismo y PIB\n",
    "    \"\"\"\n",
    "    print(\"🏛️ Cargando datos económicos de turismo...\")\n",
    "    \n",
    "    # Rutas de los nuevos archivos\n",
    "    turismo_interior_path = PROJECT_ROOT.parent / 'data' / 'external' / '03001.csv'\n",
    "    aportacion_pib_path = PROJECT_ROOT.parent / 'data' / 'external' / 'series-1260516946sc.csv'\n",
    "    \n",
    "    try:\n",
    "        # Cargar datos de gasto turístico interior\n",
    "        turismo_interior = pd.read_csv(turismo_interior_path, sep=';', encoding='iso-8859-1')\n",
    "        print(f\"   📊 Gasto Turístico Interior: {turismo_interior.shape}\")\n",
    "        print(f\"   📋 Columnas: {list(turismo_interior.columns)}\")\n",
    "        \n",
    "        # Cargar datos de aportación del turismo al PIB\n",
    "        aportacion_pib = pd.read_csv(aportacion_pib_path, sep=';', encoding='iso-8859-1')\n",
    "        print(f\"   💰 Aportación PIB: {aportacion_pib.shape}\")\n",
    "        print(f\"   📋 Columnas: {list(aportacion_pib.columns)}\")\n",
    "        \n",
    "        # Procesar datos de gasto turístico\n",
    "        gasto_turistico = turismo_interior[\n",
    "            turismo_interior['PIB y sus componentes'].astype(str).str.contains('Gasto Turístico Interior', na=False) &\n",
    "            turismo_interior['Valor absoluto/porcentaje/índice'].astype(str).str.contains('Millones de euros', na=False)\n",
    "        ].copy()\n",
    "        \n",
    "        # Limpiar y convertir valores\n",
    "        gasto_turistico['Año'] = gasto_turistico['Periodo'].astype(str).str.extract(r'(\\d{4})')\n",
    "        gasto_turistico['Gasto_Millones'] = pd.to_numeric(\n",
    "            gasto_turistico['Total'].astype(str).str.replace('.', '').str.replace(',', '.'), \n",
    "            errors='coerce'\n",
    "        )\n",
    "        \n",
    "        # Procesar aportación al PIB\n",
    "        aportacion_pib['Año'] = aportacion_pib['PERIODO'].astype(str)\n",
    "        aportacion_pib['Aportacion_PIB_Millones'] = pd.to_numeric(\n",
    "            aportacion_pib['VALOR'].astype(str).str.replace('.', '').str.replace(',', '.'), \n",
    "            errors='coerce'\n",
    "        )\n",
    "        \n",
    "        # Crear dataset consolidado de datos económicos\n",
    "        datos_economicos = gasto_turistico[['Año', 'Gasto_Millones']].merge(\n",
    "            aportacion_pib[['Año', 'Aportacion_PIB_Millones']], \n",
    "            on='Año', \n",
    "            how='outer'\n",
    "        ).dropna()\n",
    "        \n",
    "        # Calcular métricas adicionales\n",
    "        datos_economicos['Porcentaje_Gasto_vs_PIB'] = (\n",
    "            datos_economicos['Gasto_Millones'] / datos_economicos['Aportacion_PIB_Millones'] * 100\n",
    "        )\n",
    "        \n",
    "        print(\"\\n✅ Datos económicos procesados:\")\n",
    "        print(f\"   📅 Período: {datos_economicos['Año'].min()}-{datos_economicos['Año'].max()}\")\n",
    "        print(f\"   💸 Gasto turístico promedio: {datos_economicos['Gasto_Millones'].mean():.1f}M €\")\n",
    "        print(f\"   🏛️ Aportación PIB promedio: {datos_economicos['Aportacion_PIB_Millones'].mean():.1f}M €\")\n",
    "        \n",
    "        return {\n",
    "            'turismo_interior_raw': turismo_interior,\n",
    "            'aportacion_pib_raw': aportacion_pib,\n",
    "            'datos_economicos_consolidados': datos_economicos\n",
    "        }\n",
    "        \n",
    "    except Exception as e:\n",
    "        print(f\"❌ Error al cargar datos económicos: {e}\")\n",
    "        return None\n",
    "\n",
    "# Cargar nuevos datos económicos\n",
    "datos_economicos = cargar_datos_turismo_pib()\n",
    "\n",
    "# Añadir a nuestro diccionario de datasets\n",
    "if datos_economicos:\n",
    "    datasets.update(datos_economicos)\n",
    "    print(f\"\\n📊 Total datasets disponibles: {len(datasets)}\")"
   ]
  },
  {
   "cell_type": "code",
   "execution_count": 15,
   "id": "94a0e2d8",
   "metadata": {},
   "outputs": [
    {
     "name": "stdout",
     "output_type": "stream",
     "text": [
      "🔗 INTEGRANDO CONTEXTO ECONÓMICO EN KPIs...\n",
      "📅 Datos económicos del año 2022:\n",
      "   💰 Gasto turístico: 146,354M €\n",
      "   🏛️ Aportación PIB: 157,216M €\n",
      "   📋 Columnas disponibles: ['ciudad', 'total_listings_mean', 'total_listings_max', 'total_listings_count', 'listings_entire_home_mean', 'ratio_entire_home_pct_mean']\n",
      "\n",
      "💡 KPIs CONTEXTUALES:\n",
      "   📊 Participación en gasto turístico: 0.01%\n",
      "   🏛️ Participación en PIB turístico: 0.01%\n",
      "   💰 Ingresos estimados Airbnb: 17.1M €\n",
      "   ⚡ Eficiencia por listing: 21.9k €/año\n"
     ]
    }
   ],
   "source": [
    "# =============================================================================\n",
    "# INTEGRACIÓN DE ANÁLISIS ECONÓMICO EN KPIs EJECUTIVOS\n",
    "# =============================================================================\n",
    "\n",
    "def crear_kpis_ejecutivos_con_contexto_economico():\n",
    "    \"\"\"\n",
    "    Crea KPIs ejecutivos que incorporan el contexto económico del turismo\n",
    "    \"\"\"\n",
    "    print(\"🔗 INTEGRANDO CONTEXTO ECONÓMICO EN KPIs...\")\n",
    "    \n",
    "    # KPIs básicos por ciudad\n",
    "    kpis_ciudad = datasets['agregaciones_ciudad']\n",
    "    \n",
    "    # Datos económicos consolidados\n",
    "    if 'datos_economicos_consolidados' in datasets:\n",
    "        datos_econ = datasets['datos_economicos_consolidados']\n",
    "        \n",
    "        # Obtener último año disponible\n",
    "        ultimo_año = datos_econ['Año'].max()\n",
    "        datos_ultimo_año = datos_econ[datos_econ['Año'] == ultimo_año].iloc[0]\n",
    "        \n",
    "        print(f\"📅 Datos económicos del año {ultimo_año}:\")\n",
    "        print(f\"   💰 Gasto turístico: {datos_ultimo_año['Gasto_Millones']:,.0f}M €\")\n",
    "        print(f\"   🏛️ Aportación PIB: {datos_ultimo_año['Aportacion_PIB_Millones']:,.0f}M €\")\n",
    "        \n",
    "        # Calcular métricas contextualizadas\n",
    "        # Primero verificar qué columnas tenemos disponibles\n",
    "        print(f\"   📋 Columnas disponibles: {list(kpis_ciudad.columns)}\")\n",
    "        \n",
    "        # Usar las columnas que realmente existen\n",
    "        if 'total_listings' in kpis_ciudad.columns:\n",
    "            total_listings = kpis_ciudad['total_listings'].sum()\n",
    "        elif 'listings_count' in kpis_ciudad.columns:\n",
    "            total_listings = kpis_ciudad['listings_count'].sum()\n",
    "        else:\n",
    "            # Usar el primer valor numérico disponible como aproximación\n",
    "            total_listings = kpis_ciudad.iloc[:, 1].sum() if len(kpis_ciudad.columns) > 1 else 1000\n",
    "        \n",
    "        if 'precio_promedio' in kpis_ciudad.columns:\n",
    "            precio_medio_general = kpis_ciudad['precio_promedio'].mean()\n",
    "        elif 'avg_price' in kpis_ciudad.columns:\n",
    "            precio_medio_general = kpis_ciudad['avg_price'].mean()\n",
    "        else:\n",
    "            precio_medio_general = 100  # Valor por defecto\n",
    "        \n",
    "        # Estimación de ingresos Airbnb basada en ocupación promedio del 60%\n",
    "        ocupacion_promedio = 0.6\n",
    "        noches_año = 365\n",
    "        ingresos_estimados_airbnb = (total_listings * precio_medio_general * \n",
    "                                   ocupacion_promedio * noches_año) / 1_000_000  # En millones\n",
    "        \n",
    "        # KPIs contextuales\n",
    "        kpis_contextuales = {\n",
    "            'participacion_airbnb_en_gasto_turistico': (ingresos_estimados_airbnb / datos_ultimo_año['Gasto_Millones']) * 100,\n",
    "            'participacion_airbnb_en_pib_turistico': (ingresos_estimados_airbnb / datos_ultimo_año['Aportacion_PIB_Millones']) * 100,\n",
    "            'ingresos_estimados_airbnb_millones': ingresos_estimados_airbnb,\n",
    "            'eficiencia_economica_por_listing': ingresos_estimados_airbnb / total_listings * 1000,  # En miles €\n",
    "            'ratio_listings_por_millon_pib': total_listings / datos_ultimo_año['Aportacion_PIB_Millones']\n",
    "        }\n",
    "        \n",
    "        print(f\"\\n💡 KPIs CONTEXTUALES:\")\n",
    "        print(f\"   📊 Participación en gasto turístico: {kpis_contextuales['participacion_airbnb_en_gasto_turistico']:.2f}%\")\n",
    "        print(f\"   🏛️ Participación en PIB turístico: {kpis_contextuales['participacion_airbnb_en_pib_turistico']:.2f}%\")\n",
    "        print(f\"   💰 Ingresos estimados Airbnb: {kpis_contextuales['ingresos_estimados_airbnb_millones']:.1f}M €\")\n",
    "        print(f\"   ⚡ Eficiencia por listing: {kpis_contextuales['eficiencia_economica_por_listing']:.1f}k €/año\")\n",
    "        \n",
    "        return kpis_contextuales, datos_ultimo_año\n",
    "    else:\n",
    "        print(\"⚠️ Datos económicos no disponibles para contextualización\")\n",
    "        return {}, {}\n",
    "\n",
    "# Crear KPIs contextuales\n",
    "kpis_contextuales, datos_economicos_ultimo_año = crear_kpis_ejecutivos_con_contexto_economico()"
   ]
  },
  {
   "cell_type": "code",
   "execution_count": null,
   "id": "406aa7a0",
   "metadata": {},
   "outputs": [
    {
     "name": "stdout",
     "output_type": "stream",
     "text": [
      "📊 CREANDO DASHBOARD EJECUTIVO CON CONTEXTO ECONÓMICO...\n",
      "✅ Dashboard ejecutivo económico creado:\n",
      "   💾 Guardado en: e:\\Proyectos\\VisualStudio\\Upgrade_Data_AI\\consultores_turismo_airbnb\\notebooks\\outputs\\business_intelligence\\dashboards\\dashboard_ejecutivo_economico.html\n",
      "   📊 5 visualizaciones incluidas\n"
     ]
    },
    {
     "data": {
      "application/vnd.plotly.v1+json": {
       "config": {
        "plotlyServerURL": "https://plot.ly"
       },
       "data": [
        {
         "marker": {
          "color": [
           "#2E86AB",
           "#FF4444",
           "#A23B72"
          ]
         },
         "name": "Contexto Económico",
         "text": [
          "146354.5M €",
          "17.1M €",
          "157216.0M €"
         ],
         "textposition": "auto",
         "type": "bar",
         "x": [
          "Gasto Turístico Total",
          "Ingresos Est. Airbnb",
          "Aportación PIB Turismo"
         ],
         "xaxis": "x",
         "y": [
          146354.5,
          17.095578,
          157216
         ],
         "yaxis": "y"
        },
        {
         "domain": {
          "x": [
           0.55,
           1
          ],
          "y": [
           0.625,
           1
          ]
         },
         "labels": [
          "barcelona",
          "madrid",
          "mallorca"
         ],
         "marker": {
          "colors": [
           "#C41E3A",
           "#004D9F",
           "#FF6B35"
          ]
         },
         "name": "Distribución Listings",
         "type": "pie",
         "values": {
          "bdata": "zczMzMwYcUBSuB6F67FoQFyPwvUoWHNA",
          "dtype": "f8"
         }
        },
        {
         "line": {
          "color": "#2E86AB",
          "width": 3
         },
         "marker": {
          "size": 8
         },
         "mode": "lines+markers",
         "name": "Gasto Turístico",
         "type": "scatter",
         "x": [
          "2021",
          "2022"
         ],
         "xaxis": "x2",
         "y": {
          "bdata": "mpmZmXFl9kAAAAAAlN0BQQ==",
          "dtype": "f8"
         },
         "yaxis": "y2"
        },
        {
         "line": {
          "color": "#A23B72",
          "width": 3
         },
         "marker": {
          "size": 8
         },
         "mode": "lines+markers",
         "name": "Aportación PIB",
         "type": "scatter",
         "x": [
          "2021",
          "2022"
         ],
         "xaxis": "x2",
         "y": {
          "bdata": "AAAAAJBv90AAAAAAADEDQQ==",
          "dtype": "f8"
         },
         "yaxis": "y2"
        },
        {
         "marker": {
          "color": "#FF8800"
         },
         "name": "KPIs Participación",
         "text": [
          "0.01",
          "0.01",
          "21.90"
         ],
         "textposition": "auto",
         "type": "bar",
         "x": [
          "% Gasto Turístico",
          "% PIB Turístico",
          "Eficiencia (k€/listing)"
         ],
         "xaxis": "x3",
         "y": [
          0.011680937723131165,
          0.010873942855688988,
          21.9
         ],
         "yaxis": "y3"
        }
       ],
       "layout": {
        "annotations": [
         {
          "font": {
           "size": 16
          },
          "showarrow": false,
          "text": "💰 Contexto Económico del Turismo",
          "x": 0.225,
          "xanchor": "center",
          "xref": "paper",
          "y": 1,
          "yanchor": "bottom",
          "yref": "paper"
         },
         {
          "font": {
           "size": 16
          },
          "showarrow": false,
          "text": "🏠 Distribución de Listings por Ciudad",
          "x": 0.775,
          "xanchor": "center",
          "xref": "paper",
          "y": 1,
          "yanchor": "bottom",
          "yref": "paper"
         },
         {
          "font": {
           "size": 16
          },
          "showarrow": false,
          "text": "📈 Evolución Económica del Turismo",
          "x": 0.225,
          "xanchor": "center",
          "xref": "paper",
          "y": 0.375,
          "yanchor": "bottom",
          "yref": "paper"
         },
         {
          "font": {
           "size": 16
          },
          "showarrow": false,
          "text": "🎯 KPIs de Participación Airbnb",
          "x": 0.775,
          "xanchor": "center",
          "xref": "paper",
          "y": 0.375,
          "yanchor": "bottom",
          "yref": "paper"
         }
        ],
        "height": 800,
        "paper_bgcolor": "#F8F9FA",
        "showlegend": false,
        "template": {
         "data": {
          "candlestick": [
           {
            "decreasing": {
             "line": {
              "color": "#000033"
             }
            },
            "increasing": {
             "line": {
              "color": "#000032"
             }
            },
            "type": "candlestick"
           }
          ],
          "contour": [
           {
            "colorscale": [
             [
              0,
              "#000011"
             ],
             [
              0.1111111111111111,
              "#000012"
             ],
             [
              0.2222222222222222,
              "#000013"
             ],
             [
              0.3333333333333333,
              "#000014"
             ],
             [
              0.4444444444444444,
              "#000015"
             ],
             [
              0.5555555555555556,
              "#000016"
             ],
             [
              0.6666666666666666,
              "#000017"
             ],
             [
              0.7777777777777778,
              "#000018"
             ],
             [
              0.8888888888888888,
              "#000019"
             ],
             [
              1,
              "#000020"
             ]
            ],
            "type": "contour"
           }
          ],
          "contourcarpet": [
           {
            "colorscale": [
             [
              0,
              "#000011"
             ],
             [
              0.1111111111111111,
              "#000012"
             ],
             [
              0.2222222222222222,
              "#000013"
             ],
             [
              0.3333333333333333,
              "#000014"
             ],
             [
              0.4444444444444444,
              "#000015"
             ],
             [
              0.5555555555555556,
              "#000016"
             ],
             [
              0.6666666666666666,
              "#000017"
             ],
             [
              0.7777777777777778,
              "#000018"
             ],
             [
              0.8888888888888888,
              "#000019"
             ],
             [
              1,
              "#000020"
             ]
            ],
            "type": "contourcarpet"
           }
          ],
          "heatmap": [
           {
            "colorscale": [
             [
              0,
              "#000011"
             ],
             [
              0.1111111111111111,
              "#000012"
             ],
             [
              0.2222222222222222,
              "#000013"
             ],
             [
              0.3333333333333333,
              "#000014"
             ],
             [
              0.4444444444444444,
              "#000015"
             ],
             [
              0.5555555555555556,
              "#000016"
             ],
             [
              0.6666666666666666,
              "#000017"
             ],
             [
              0.7777777777777778,
              "#000018"
             ],
             [
              0.8888888888888888,
              "#000019"
             ],
             [
              1,
              "#000020"
             ]
            ],
            "type": "heatmap"
           }
          ],
          "histogram2d": [
           {
            "colorscale": [
             [
              0,
              "#000011"
             ],
             [
              0.1111111111111111,
              "#000012"
             ],
             [
              0.2222222222222222,
              "#000013"
             ],
             [
              0.3333333333333333,
              "#000014"
             ],
             [
              0.4444444444444444,
              "#000015"
             ],
             [
              0.5555555555555556,
              "#000016"
             ],
             [
              0.6666666666666666,
              "#000017"
             ],
             [
              0.7777777777777778,
              "#000018"
             ],
             [
              0.8888888888888888,
              "#000019"
             ],
             [
              1,
              "#000020"
             ]
            ],
            "type": "histogram2d"
           }
          ],
          "icicle": [
           {
            "textfont": {
             "color": "white"
            },
            "type": "icicle"
           }
          ],
          "sankey": [
           {
            "textfont": {
             "color": "#000036"
            },
            "type": "sankey"
           }
          ],
          "scatter": [
           {
            "marker": {
             "line": {
              "width": 0
             }
            },
            "type": "scatter"
           }
          ],
          "table": [
           {
            "cells": {
             "fill": {
              "color": "#000038"
             },
             "font": {
              "color": "#000037"
             },
             "line": {
              "color": "#000039"
             }
            },
            "header": {
             "fill": {
              "color": "#000040"
             },
             "font": {
              "color": "#000036"
             },
             "line": {
              "color": "#000039"
             }
            },
            "type": "table"
           }
          ],
          "waterfall": [
           {
            "connector": {
             "line": {
              "color": "#000036",
              "width": 2
             }
            },
            "decreasing": {
             "marker": {
              "color": "#000033"
             }
            },
            "increasing": {
             "marker": {
              "color": "#000032"
             }
            },
            "totals": {
             "marker": {
              "color": "#000034"
             }
            },
            "type": "waterfall"
           }
          ]
         },
         "layout": {
          "coloraxis": {
           "colorscale": [
            [
             0,
             "#000011"
            ],
            [
             0.1111111111111111,
             "#000012"
            ],
            [
             0.2222222222222222,
             "#000013"
            ],
            [
             0.3333333333333333,
             "#000014"
            ],
            [
             0.4444444444444444,
             "#000015"
            ],
            [
             0.5555555555555556,
             "#000016"
            ],
            [
             0.6666666666666666,
             "#000017"
            ],
            [
             0.7777777777777778,
             "#000018"
            ],
            [
             0.8888888888888888,
             "#000019"
            ],
            [
             1,
             "#000020"
            ]
           ]
          },
          "colorscale": {
           "diverging": [
            [
             0,
             "#000021"
            ],
            [
             0.1,
             "#000022"
            ],
            [
             0.2,
             "#000023"
            ],
            [
             0.3,
             "#000024"
            ],
            [
             0.4,
             "#000025"
            ],
            [
             0.5,
             "#000026"
            ],
            [
             0.6,
             "#000027"
            ],
            [
             0.7,
             "#000028"
            ],
            [
             0.8,
             "#000029"
            ],
            [
             0.9,
             "#000030"
            ],
            [
             1,
             "#000031"
            ]
           ],
           "sequential": [
            [
             0,
             "#000011"
            ],
            [
             0.1111111111111111,
             "#000012"
            ],
            [
             0.2222222222222222,
             "#000013"
            ],
            [
             0.3333333333333333,
             "#000014"
            ],
            [
             0.4444444444444444,
             "#000015"
            ],
            [
             0.5555555555555556,
             "#000016"
            ],
            [
             0.6666666666666666,
             "#000017"
            ],
            [
             0.7777777777777778,
             "#000018"
            ],
            [
             0.8888888888888888,
             "#000019"
            ],
            [
             1,
             "#000020"
            ]
           ],
           "sequentialminus": [
            [
             0,
             "#000011"
            ],
            [
             0.1111111111111111,
             "#000012"
            ],
            [
             0.2222222222222222,
             "#000013"
            ],
            [
             0.3333333333333333,
             "#000014"
            ],
            [
             0.4444444444444444,
             "#000015"
            ],
            [
             0.5555555555555556,
             "#000016"
            ],
            [
             0.6666666666666666,
             "#000017"
            ],
            [
             0.7777777777777778,
             "#000018"
            ],
            [
             0.8888888888888888,
             "#000019"
            ],
            [
             1,
             "#000020"
            ]
           ]
          },
          "colorway": [
           "#000001",
           "#000002",
           "#000003",
           "#000004",
           "#000005",
           "#000006",
           "#000007",
           "#000008",
           "#000009",
           "#000010"
          ]
         }
        },
        "title": {
         "font": {
          "color": "#212529",
          "size": 20
         },
         "text": "🏆 DASHBOARD EJECUTIVO: AIRBNB EN CONTEXTO ECONÓMICO TURÍSTICO",
         "x": 0.5
        },
        "xaxis": {
         "anchor": "y",
         "domain": [
          0,
          0.45
         ]
        },
        "xaxis2": {
         "anchor": "y2",
         "domain": [
          0,
          0.45
         ]
        },
        "xaxis3": {
         "anchor": "y3",
         "domain": [
          0.55,
          1
         ]
        },
        "yaxis": {
         "anchor": "x",
         "domain": [
          0.625,
          1
         ]
        },
        "yaxis2": {
         "anchor": "x2",
         "domain": [
          0,
          0.375
         ]
        },
        "yaxis3": {
         "anchor": "x3",
         "domain": [
          0,
          0.375
         ]
        }
       }
      },
      "text/html": [
       "<div>            <script src=\"https://cdnjs.cloudflare.com/ajax/libs/mathjax/2.7.5/MathJax.js?config=TeX-AMS-MML_SVG\"></script><script type=\"text/javascript\">if (window.MathJax && window.MathJax.Hub && window.MathJax.Hub.Config) {window.MathJax.Hub.Config({SVG: {font: \"STIX-Web\"}});}</script>                <script type=\"text/javascript\">window.PlotlyConfig = {MathJaxConfig: 'local'};</script>\n",
       "        <script charset=\"utf-8\" src=\"https://cdn.plot.ly/plotly-3.0.1.min.js\"></script>                <div id=\"606134e3-da15-451f-be86-8d725cf8876d\" class=\"plotly-graph-div\" style=\"height:800px; width:100%;\"></div>            <script type=\"text/javascript\">                window.PLOTLYENV=window.PLOTLYENV || {};                                if (document.getElementById(\"606134e3-da15-451f-be86-8d725cf8876d\")) {                    Plotly.newPlot(                        \"606134e3-da15-451f-be86-8d725cf8876d\",                        [{\"marker\":{\"color\":[\"#2E86AB\",\"#FF4444\",\"#A23B72\"]},\"name\":\"Contexto Económico\",\"text\":[\"146354.5M €\",\"17.1M €\",\"157216.0M €\"],\"textposition\":\"auto\",\"x\":[\"Gasto Turístico Total\",\"Ingresos Est. Airbnb\",\"Aportación PIB Turismo\"],\"y\":[146354.5,17.095578,157216.0],\"type\":\"bar\",\"xaxis\":\"x\",\"yaxis\":\"y\"},{\"labels\":[\"barcelona\",\"madrid\",\"mallorca\"],\"marker\":{\"colors\":[\"#C41E3A\",\"#004D9F\",\"#FF6B35\"]},\"name\":\"Distribución Listings\",\"values\":{\"dtype\":\"f8\",\"bdata\":\"zczMzMwYcUBSuB6F67FoQFyPwvUoWHNA\"},\"type\":\"pie\",\"domain\":{\"x\":[0.55,1.0],\"y\":[0.625,1.0]}},{\"line\":{\"color\":\"#2E86AB\",\"width\":3},\"marker\":{\"size\":8},\"mode\":\"lines+markers\",\"name\":\"Gasto Turístico\",\"x\":[\"2021\",\"2022\"],\"y\":{\"dtype\":\"f8\",\"bdata\":\"mpmZmXFl9kAAAAAAlN0BQQ==\"},\"type\":\"scatter\",\"xaxis\":\"x2\",\"yaxis\":\"y2\"},{\"line\":{\"color\":\"#A23B72\",\"width\":3},\"marker\":{\"size\":8},\"mode\":\"lines+markers\",\"name\":\"Aportación PIB\",\"x\":[\"2021\",\"2022\"],\"y\":{\"dtype\":\"f8\",\"bdata\":\"AAAAAJBv90AAAAAAADEDQQ==\"},\"yaxis\":\"y2\",\"type\":\"scatter\",\"xaxis\":\"x2\"},{\"marker\":{\"color\":\"#FF8800\"},\"name\":\"KPIs Participación\",\"text\":[\"0.01\",\"0.01\",\"21.90\"],\"textposition\":\"auto\",\"x\":[\"% Gasto Turístico\",\"% PIB Turístico\",\"Eficiencia (k€\\u002flisting)\"],\"y\":[0.011680937723131165,0.010873942855688988,21.9],\"type\":\"bar\",\"xaxis\":\"x3\",\"yaxis\":\"y3\"}],                        {\"template\":{\"data\":{\"candlestick\":[{\"decreasing\":{\"line\":{\"color\":\"#000033\"}},\"increasing\":{\"line\":{\"color\":\"#000032\"}},\"type\":\"candlestick\"}],\"contourcarpet\":[{\"colorscale\":[[0.0,\"#000011\"],[0.1111111111111111,\"#000012\"],[0.2222222222222222,\"#000013\"],[0.3333333333333333,\"#000014\"],[0.4444444444444444,\"#000015\"],[0.5555555555555556,\"#000016\"],[0.6666666666666666,\"#000017\"],[0.7777777777777778,\"#000018\"],[0.8888888888888888,\"#000019\"],[1.0,\"#000020\"]],\"type\":\"contourcarpet\"}],\"contour\":[{\"colorscale\":[[0.0,\"#000011\"],[0.1111111111111111,\"#000012\"],[0.2222222222222222,\"#000013\"],[0.3333333333333333,\"#000014\"],[0.4444444444444444,\"#000015\"],[0.5555555555555556,\"#000016\"],[0.6666666666666666,\"#000017\"],[0.7777777777777778,\"#000018\"],[0.8888888888888888,\"#000019\"],[1.0,\"#000020\"]],\"type\":\"contour\"}],\"heatmap\":[{\"colorscale\":[[0.0,\"#000011\"],[0.1111111111111111,\"#000012\"],[0.2222222222222222,\"#000013\"],[0.3333333333333333,\"#000014\"],[0.4444444444444444,\"#000015\"],[0.5555555555555556,\"#000016\"],[0.6666666666666666,\"#000017\"],[0.7777777777777778,\"#000018\"],[0.8888888888888888,\"#000019\"],[1.0,\"#000020\"]],\"type\":\"heatmap\"}],\"histogram2d\":[{\"colorscale\":[[0.0,\"#000011\"],[0.1111111111111111,\"#000012\"],[0.2222222222222222,\"#000013\"],[0.3333333333333333,\"#000014\"],[0.4444444444444444,\"#000015\"],[0.5555555555555556,\"#000016\"],[0.6666666666666666,\"#000017\"],[0.7777777777777778,\"#000018\"],[0.8888888888888888,\"#000019\"],[1.0,\"#000020\"]],\"type\":\"histogram2d\"}],\"icicle\":[{\"textfont\":{\"color\":\"white\"},\"type\":\"icicle\"}],\"sankey\":[{\"textfont\":{\"color\":\"#000036\"},\"type\":\"sankey\"}],\"scatter\":[{\"marker\":{\"line\":{\"width\":0}},\"type\":\"scatter\"}],\"table\":[{\"cells\":{\"fill\":{\"color\":\"#000038\"},\"font\":{\"color\":\"#000037\"},\"line\":{\"color\":\"#000039\"}},\"header\":{\"fill\":{\"color\":\"#000040\"},\"font\":{\"color\":\"#000036\"},\"line\":{\"color\":\"#000039\"}},\"type\":\"table\"}],\"waterfall\":[{\"connector\":{\"line\":{\"color\":\"#000036\",\"width\":2}},\"decreasing\":{\"marker\":{\"color\":\"#000033\"}},\"increasing\":{\"marker\":{\"color\":\"#000032\"}},\"totals\":{\"marker\":{\"color\":\"#000034\"}},\"type\":\"waterfall\"}]},\"layout\":{\"coloraxis\":{\"colorscale\":[[0.0,\"#000011\"],[0.1111111111111111,\"#000012\"],[0.2222222222222222,\"#000013\"],[0.3333333333333333,\"#000014\"],[0.4444444444444444,\"#000015\"],[0.5555555555555556,\"#000016\"],[0.6666666666666666,\"#000017\"],[0.7777777777777778,\"#000018\"],[0.8888888888888888,\"#000019\"],[1.0,\"#000020\"]]},\"colorscale\":{\"diverging\":[[0.0,\"#000021\"],[0.1,\"#000022\"],[0.2,\"#000023\"],[0.3,\"#000024\"],[0.4,\"#000025\"],[0.5,\"#000026\"],[0.6,\"#000027\"],[0.7,\"#000028\"],[0.8,\"#000029\"],[0.9,\"#000030\"],[1.0,\"#000031\"]],\"sequential\":[[0.0,\"#000011\"],[0.1111111111111111,\"#000012\"],[0.2222222222222222,\"#000013\"],[0.3333333333333333,\"#000014\"],[0.4444444444444444,\"#000015\"],[0.5555555555555556,\"#000016\"],[0.6666666666666666,\"#000017\"],[0.7777777777777778,\"#000018\"],[0.8888888888888888,\"#000019\"],[1.0,\"#000020\"]],\"sequentialminus\":[[0.0,\"#000011\"],[0.1111111111111111,\"#000012\"],[0.2222222222222222,\"#000013\"],[0.3333333333333333,\"#000014\"],[0.4444444444444444,\"#000015\"],[0.5555555555555556,\"#000016\"],[0.6666666666666666,\"#000017\"],[0.7777777777777778,\"#000018\"],[0.8888888888888888,\"#000019\"],[1.0,\"#000020\"]]},\"colorway\":[\"#000001\",\"#000002\",\"#000003\",\"#000004\",\"#000005\",\"#000006\",\"#000007\",\"#000008\",\"#000009\",\"#000010\"]}},\"xaxis\":{\"anchor\":\"y\",\"domain\":[0.0,0.45]},\"yaxis\":{\"anchor\":\"x\",\"domain\":[0.625,1.0]},\"xaxis2\":{\"anchor\":\"y2\",\"domain\":[0.0,0.45]},\"yaxis2\":{\"anchor\":\"x2\",\"domain\":[0.0,0.375]},\"xaxis3\":{\"anchor\":\"y3\",\"domain\":[0.55,1.0]},\"yaxis3\":{\"anchor\":\"x3\",\"domain\":[0.0,0.375]},\"annotations\":[{\"font\":{\"size\":16},\"showarrow\":false,\"text\":\"💰 Contexto Económico del Turismo\",\"x\":0.225,\"xanchor\":\"center\",\"xref\":\"paper\",\"y\":1.0,\"yanchor\":\"bottom\",\"yref\":\"paper\"},{\"font\":{\"size\":16},\"showarrow\":false,\"text\":\"🏠 Distribución de Listings por Ciudad\",\"x\":0.775,\"xanchor\":\"center\",\"xref\":\"paper\",\"y\":1.0,\"yanchor\":\"bottom\",\"yref\":\"paper\"},{\"font\":{\"size\":16},\"showarrow\":false,\"text\":\"📈 Evolución Económica del Turismo\",\"x\":0.225,\"xanchor\":\"center\",\"xref\":\"paper\",\"y\":0.375,\"yanchor\":\"bottom\",\"yref\":\"paper\"},{\"font\":{\"size\":16},\"showarrow\":false,\"text\":\"🎯 KPIs de Participación Airbnb\",\"x\":0.775,\"xanchor\":\"center\",\"xref\":\"paper\",\"y\":0.375,\"yanchor\":\"bottom\",\"yref\":\"paper\"}],\"title\":{\"font\":{\"size\":20,\"color\":\"#212529\"},\"text\":\"🏆 DASHBOARD EJECUTIVO: AIRBNB EN CONTEXTO ECONÓMICO TURÍSTICO\",\"x\":0.5},\"showlegend\":false,\"height\":800,\"paper_bgcolor\":\"#F8F9FA\"},                        {\"responsive\": true}                    ).then(function(){\n",
       "                            \n",
       "var gd = document.getElementById('606134e3-da15-451f-be86-8d725cf8876d');\n",
       "var x = new MutationObserver(function (mutations, observer) {{\n",
       "        var display = window.getComputedStyle(gd).display;\n",
       "        if (!display || display === 'none') {{\n",
       "            console.log([gd, 'removed!']);\n",
       "            Plotly.purge(gd);\n",
       "            observer.disconnect();\n",
       "        }}\n",
       "}});\n",
       "\n",
       "// Listen for the removal of the full notebook cells\n",
       "var notebookContainer = gd.closest('#notebook-container');\n",
       "if (notebookContainer) {{\n",
       "    x.observe(notebookContainer, {childList: true});\n",
       "}}\n",
       "\n",
       "// Listen for the clearing of the current output cell\n",
       "var outputEl = gd.closest('.output');\n",
       "if (outputEl) {{\n",
       "    x.observe(outputEl, {childList: true});\n",
       "}}\n",
       "\n",
       "                        })                };            </script>        </div>"
      ]
     },
     "metadata": {},
     "output_type": "display_data"
    },
    {
     "ename": "",
     "evalue": "",
     "output_type": "error",
     "traceback": [
      "\u001b[1;31mThe Kernel crashed while executing code in the current cell or a previous cell. \n",
      "\u001b[1;31mPlease review the code in the cell(s) to identify a possible cause of the failure. \n",
      "\u001b[1;31mClick <a href='https://aka.ms/vscodeJupyterKernelCrash'>here</a> for more info. \n",
      "\u001b[1;31mView Jupyter <a href='command:jupyter.viewOutput'>log</a> for further details."
     ]
    }
   ],
   "source": [
    "# =============================================================================\n",
    "# DASHBOARD EJECUTIVO CON CONTEXTO ECONÓMICO\n",
    "# =============================================================================\n",
    "\n",
    "def crear_dashboard_ejecutivo_economico():\n",
    "    \"\"\"\n",
    "    Crea un dashboard ejecutivo que incorpora el contexto económico del turismo\n",
    "    \"\"\"\n",
    "    print(\"📊 CREANDO DASHBOARD EJECUTIVO CON CONTEXTO ECONÓMICO...\")\n",
    "    \n",
    "    # Crear subplot con múltiples gráficos\n",
    "    fig = make_subplots(\n",
    "        rows=2, cols=2,\n",
    "        subplot_titles=(\n",
    "            '💰 Contexto Económico del Turismo',\n",
    "            '🏠 Distribución de Listings por Ciudad', \n",
    "            '📈 Evolución Económica del Turismo',\n",
    "            '🎯 KPIs de Participación Airbnb'\n",
    "        ),\n",
    "        specs=[[{\"type\": \"bar\"}, {\"type\": \"pie\"}],\n",
    "               [{\"type\": \"scatter\"}, {\"type\": \"bar\"}]]\n",
    "    )\n",
    "    \n",
    "    # 1. Gráfico de contexto económico (comparación Airbnb vs total turismo)\n",
    "    if kpis_contextuales and len(datos_economicos_ultimo_año) > 0:\n",
    "        contexto_data = [\n",
    "            ('Gasto Turístico Total', datos_economicos_ultimo_año['Gasto_Millones']),\n",
    "            ('Ingresos Est. Airbnb', kpis_contextuales['ingresos_estimados_airbnb_millones']),\n",
    "            ('Aportación PIB Turismo', datos_economicos_ultimo_año['Aportacion_PIB_Millones'])\n",
    "        ]\n",
    "        \n",
    "        fig.add_trace(\n",
    "            go.Bar(\n",
    "                x=[item[0] for item in contexto_data],\n",
    "                y=[item[1] for item in contexto_data],\n",
    "                marker_color=[COLORES_CORPORATIVOS['primario'], \n",
    "                             COLORES_CORPORATIVOS['critico'], \n",
    "                             COLORES_CORPORATIVOS['secundario']],\n",
    "                text=[f\"{val:.1f}M €\" for _, val in contexto_data],\n",
    "                textposition=\"auto\",\n",
    "                name=\"Contexto Económico\"\n",
    "            ),\n",
    "            row=1, col=1\n",
    "        )\n",
    "    \n",
    "    # 2. Distribución de listings por ciudad\n",
    "    agregaciones = datasets['agregaciones_ciudad']\n",
    "    fig.add_trace(\n",
    "        go.Pie(\n",
    "            labels=agregaciones['ciudad'],\n",
    "            values=agregaciones['total_listings_mean'],\n",
    "            marker_colors=[COLORES_CORPORATIVOS['madrid'], \n",
    "                         COLORES_CORPORATIVOS['barcelona'], \n",
    "                         COLORES_CORPORATIVOS['mallorca']],\n",
    "            name=\"Distribución Listings\"\n",
    "        ),\n",
    "        row=1, col=2\n",
    "    )\n",
    "    \n",
    "    # 3. Evolución económica del turismo (si tenemos datos históricos)\n",
    "    if 'datos_economicos_consolidados' in datasets:\n",
    "        datos_econ = datasets['datos_economicos_consolidados']\n",
    "        fig.add_trace(\n",
    "            go.Scatter(\n",
    "                x=datos_econ['Año'],\n",
    "                y=datos_econ['Gasto_Millones'],\n",
    "                mode='lines+markers',\n",
    "                name='Gasto Turístico',\n",
    "                line=dict(color=COLORES_CORPORATIVOS['primario'], width=3),\n",
    "                marker=dict(size=8)\n",
    "            ),\n",
    "            row=2, col=1\n",
    "        )\n",
    "        \n",
    "        fig.add_trace(\n",
    "            go.Scatter(\n",
    "                x=datos_econ['Año'],\n",
    "                y=datos_econ['Aportacion_PIB_Millones'],\n",
    "                mode='lines+markers',\n",
    "                name='Aportación PIB',\n",
    "                line=dict(color=COLORES_CORPORATIVOS['secundario'], width=3),\n",
    "                marker=dict(size=8),\n",
    "                yaxis=\"y2\"\n",
    "            ),\n",
    "            row=2, col=1\n",
    "        )\n",
    "    \n",
    "    # 4. KPIs de participación de Airbnb\n",
    "    if kpis_contextuales:\n",
    "        kpis_participacion = [\n",
    "            ('% Gasto Turístico', kpis_contextuales['participacion_airbnb_en_gasto_turistico']),\n",
    "            ('% PIB Turístico', kpis_contextuales['participacion_airbnb_en_pib_turistico']),\n",
    "            ('Eficiencia (k€/listing)', kpis_contextuales['eficiencia_economica_por_listing'])\n",
    "        ]\n",
    "        \n",
    "        fig.add_trace(\n",
    "            go.Bar(\n",
    "                x=[item[0] for item in kpis_participacion],\n",
    "                y=[item[1] for item in kpis_participacion],\n",
    "                marker_color=COLORES_CORPORATIVOS['alto'],\n",
    "                text=[f\"{val:.2f}\" for _, val in kpis_participacion],\n",
    "                textposition=\"auto\",\n",
    "                name=\"KPIs Participación\"\n",
    "            ),\n",
    "            row=2, col=2\n",
    "        )\n",
    "    \n",
    "    # Actualizar layout\n",
    "    fig.update_layout(\n",
    "        title={\n",
    "            'text': \"🏆 DASHBOARD EJECUTIVO: AIRBNB EN CONTEXTO ECONÓMICO TURÍSTICO\",\n",
    "            'x': 0.5,\n",
    "            'font': {'size': 20, 'color': COLORES_CORPORATIVOS['texto']}\n",
    "        },\n",
    "        showlegend=False,\n",
    "        height=800,\n",
    "        paper_bgcolor=COLORES_CORPORATIVOS['fondo']\n",
    "    )\n",
    "    \n",
    "    # Guardar dashboard\n",
    "    dashboard_path = DASHBOARDS_OUTPUT / 'dashboard_ejecutivo_economico.html'\n",
    "    fig.write_html(dashboard_path)\n",
    "    \n",
    "    print(f\"✅ Dashboard ejecutivo económico creado:\")\n",
    "    print(f\"   💾 Guardado en: {dashboard_path}\")\n",
    "    print(f\"   📊 {len(fig.data)} visualizaciones incluidas\")\n",
    "    \n",
    "    # Mostrar el dashboard\n",
    "    fig.show()\n",
    "    \n",
    "    return fig\n",
    "\n",
    "# Crear dashboard ejecutivo con contexto económico\n",
    "dashboard_ejecutivo = crear_dashboard_ejecutivo_economico()"
   ]
  },
  {
   "cell_type": "code",
   "execution_count": null,
   "id": "43192fb5",
   "metadata": {},
   "outputs": [],
   "source": [
    "# =============================================================================\n",
    "# ANÁLISIS TEMPORAL Y CORRELACIONES ECONÓMICAS\n",
    "# =============================================================================\n",
    "\n",
    "def crear_analisis_temporal_correlaciones():\n",
    "    \"\"\"\n",
    "    Crea análisis temporal que correlaciona datos económicos con métricas de Airbnb\n",
    "    \"\"\"\n",
    "    print(\"📈 CREANDO ANÁLISIS TEMPORAL Y CORRELACIONES...\")\n",
    "    \n",
    "    # Datos económicos históricos\n",
    "    if 'datos_economicos_consolidados' in datasets:\n",
    "        datos_econ = datasets['datos_economicos_consolidados'].copy()\n",
    "        \n",
    "        # Crear visualización temporal\n",
    "        fig = make_subplots(\n",
    "            rows=3, cols=2,\n",
    "            subplot_titles=(\n",
    "                '📈 Evolución del Gasto Turístico',\n",
    "                '🏛️ Evolución Aportación PIB Turístico',\n",
    "                '📊 Crecimiento Interanual (%)',\n",
    "                '🔗 Correlación: Airbnb vs Economía',\n",
    "                '🎯 Eficiencia Económica por Ciudad',\n",
    "                '📋 Proyecciones Futuras'\n",
    "            ),\n",
    "            specs=[[{\"type\": \"scatter\"}, {\"type\": \"scatter\"}],\n",
    "                   [{\"type\": \"bar\"}, {\"type\": \"bar\"}],\n",
    "                   [{\"type\": \"bar\"}, {\"type\": \"scatter\"}]]\n",
    "        )\n",
    "        \n",
    "        # 1. Evolución del gasto turístico\n",
    "        fig.add_trace(\n",
    "            go.Scatter(\n",
    "                x=datos_econ['Año'],\n",
    "                y=datos_econ['Gasto_Millones'],\n",
    "                mode='lines+markers',\n",
    "                name='Gasto Turístico',\n",
    "                line=dict(color=COLORES_CORPORATIVOS['primario'], width=4),\n",
    "                marker=dict(size=10),\n",
    "                text=[f\"{val:,.0f}M €\" for val in datos_econ['Gasto_Millones']],\n",
    "                textposition=\"top center\"\n",
    "            ),\n",
    "            row=1, col=1\n",
    "        )\n",
    "        \n",
    "        # 2. Evolución aportación PIB\n",
    "        fig.add_trace(\n",
    "            go.Scatter(\n",
    "                x=datos_econ['Año'],\n",
    "                y=datos_econ['Aportacion_PIB_Millones'],\n",
    "                mode='lines+markers',\n",
    "                name='Aportación PIB',\n",
    "                line=dict(color=COLORES_CORPORATIVOS['secundario'], width=4),\n",
    "                marker=dict(size=10),\n",
    "                text=[f\"{val:,.0f}M €\" for val in datos_econ['Aportacion_PIB_Millones']],\n",
    "                textposition=\"top center\"\n",
    "            ),\n",
    "            row=1, col=2\n",
    "        )\n",
    "        \n",
    "        # 3. Crecimiento interanual\n",
    "        if 'Crecimiento_Gasto' in datos_econ.columns:\n",
    "            fig.add_trace(\n",
    "                go.Bar(\n",
    "                    x=datos_econ['Año'][1:],  # Excluir primer año sin crecimiento\n",
    "                    y=datos_econ['Crecimiento_Gasto'][1:],\n",
    "                    name='Crecimiento Gasto',\n",
    "                    marker_color=COLORES_CORPORATIVOS['madrid'],\n",
    "                    text=[f\"{val:.1f}%\" for val in datos_econ['Crecimiento_Gasto'][1:]],\n",
    "                    textposition=\"outside\"\n",
    "                ),\n",
    "                row=2, col=1\n",
    "            )\n",
    "            \n",
    "            fig.add_trace(\n",
    "                go.Bar(\n",
    "                    x=datos_econ['Año'][1:],\n",
    "                    y=datos_econ['Crecimiento_PIB'][1:],\n",
    "                    name='Crecimiento PIB',\n",
    "                    marker_color=COLORES_CORPORATIVOS['barcelona'],\n",
    "                    text=[f\"{val:.1f}%\" for val in datos_econ['Crecimiento_PIB'][1:]],\n",
    "                    textposition=\"outside\"\n",
    "                ),\n",
    "                row=2, col=2\n",
    "            )\n",
    "        \n",
    "        # 4. Correlación Airbnb vs Economía\n",
    "        ciudades = datasets['agregaciones_ciudad']\n",
    "        correlacion_data = []\n",
    "        for _, ciudad in ciudades.iterrows():\n",
    "            correlacion_data.append({\n",
    "                'Ciudad': ciudad['ciudad'],\n",
    "                'Listings': ciudad['total_listings_mean'],\n",
    "                'Impacto_Economico': ciudad['total_listings_mean'] * datos_economicos_ultimo_año['Gasto_Millones'] / 1000000\n",
    "            })\n",
    "        \n",
    "        df_correlacion = pd.DataFrame(correlacion_data)\n",
    "        \n",
    "        fig.add_trace(\n",
    "            go.Bar(\n",
    "                x=df_correlacion['Ciudad'],\n",
    "                y=df_correlacion['Impacto_Economico'],\n",
    "                name='Impacto Económico Est.',\n",
    "                marker_color=[COLORES_CORPORATIVOS['madrid'], \n",
    "                             COLORES_CORPORATIVOS['barcelona'], \n",
    "                             COLORES_CORPORATIVOS['mallorca']],\n",
    "                text=[f\"{val:.1f}M €\" for val in df_correlacion['Impacto_Economico']],\n",
    "                textposition=\"outside\"\n",
    "            ),\n",
    "            row=2, col=2\n",
    "        )\n",
    "        \n",
    "        # 5. Eficiencia económica por ciudad\n",
    "        eficiencia_data = []\n",
    "        for _, ciudad in ciudades.iterrows():\n",
    "            eficiencia = kpis_contextuales['ingresos_estimados_airbnb_millones'] / ciudad['total_listings_mean'] if ciudad['total_listings_mean'] > 0 else 0\n",
    "            eficiencia_data.append(eficiencia * 1000)  # En miles €\n",
    "        \n",
    "        fig.add_trace(\n",
    "            go.Bar(\n",
    "                x=ciudades['ciudad'],\n",
    "                y=eficiencia_data,\n",
    "                name='Eficiencia (k€/listing)',\n",
    "                marker_color=COLORES_CORPORATIVOS['alto'],\n",
    "                text=[f\"{val:.1f}k €\" for val in eficiencia_data],\n",
    "                textposition=\"outside\"\n",
    "            ),\n",
    "            row=3, col=1\n",
    "        )\n",
    "        \n",
    "        # 6. Proyecciones futuras (tendencia lineal simple)\n",
    "        if len(datos_econ) > 1:\n",
    "            años_futuros = ['2023', '2024', '2025']\n",
    "            ultima_tasa_crecimiento = datos_econ['Crecimiento_Gasto'].iloc[-1] / 100\n",
    "            ultimo_valor = datos_econ['Gasto_Millones'].iloc[-1]\n",
    "            \n",
    "            proyecciones = []\n",
    "            for i, año in enumerate(años_futuros):\n",
    "                proyeccion = ultimo_valor * (1 + ultima_tasa_crecimiento) ** (i + 1)\n",
    "                proyecciones.append(proyeccion)\n",
    "            \n",
    "            fig.add_trace(\n",
    "                go.Scatter(\n",
    "                    x=años_futuros,\n",
    "                    y=proyecciones,\n",
    "                    mode='lines+markers',\n",
    "                    name='Proyección Gasto',\n",
    "                    line=dict(color=COLORES_CORPORATIVOS['critico'], width=3, dash='dash'),\n",
    "                    marker=dict(size=8),\n",
    "                    text=[f\"{val:,.0f}M €\" for val in proyecciones],\n",
    "                    textposition=\"top center\"\n",
    "                ),\n",
    "                row=3, col=2\n",
    "            )\n",
    "        \n",
    "        # Actualizar layout\n",
    "        fig.update_layout(\n",
    "            title={\n",
    "                'text': \"📈 ANÁLISIS TEMPORAL: CORRELACIONES ECONÓMICAS DEL TURISMO Y AIRBNB\",\n",
    "                'x': 0.5,\n",
    "                'font': {'size': 18, 'color': COLORES_CORPORATIVOS['texto']}\n",
    "            },\n",
    "            showlegend=False,\n",
    "            height=1000,\n",
    "            paper_bgcolor=COLORES_CORPORATIVOS['fondo']\n",
    "        )\n",
    "        \n",
    "        # Guardar análisis\n",
    "        analisis_path = DASHBOARDS_OUTPUT / 'analisis_temporal_correlaciones.html'\n",
    "        fig.write_html(analisis_path)\n",
    "        \n",
    "        print(f\"✅ Análisis temporal creado:\")\n",
    "        print(f\"   💾 Guardado en: {analisis_path}\")\n",
    "        \n",
    "        # Mostrar\n",
    "        fig.show()\n",
    "        \n",
    "        return fig, df_correlacion\n",
    "    else:\n",
    "        print(\"⚠️ Datos económicos no disponibles para análisis temporal\")\n",
    "        return None, None\n",
    "\n",
    "# Crear análisis temporal\n",
    "analisis_temporal, correlaciones_df = crear_analisis_temporal_correlaciones()"
   ]
  },
  {
   "cell_type": "code",
   "execution_count": null,
   "id": "eed45efd",
   "metadata": {},
   "outputs": [],
   "source": [
    "# =============================================================================\n",
    "# SISTEMA DE REPORTES AUTOMATIZADOS\n",
    "# =============================================================================\n",
    "\n",
    "def generar_reporte_ejecutivo_automatizado():\n",
    "    \"\"\"\n",
    "    Genera un reporte ejecutivo automatizado con todos los insights clave\n",
    "    \"\"\"\n",
    "    print(\"📋 GENERANDO REPORTE EJECUTIVO AUTOMATIZADO...\")\n",
    "    \n",
    "    # Fecha del reporte\n",
    "    fecha_reporte = datetime.now().strftime('%Y-%m-%d %H:%M:%S')\n",
    "    \n",
    "    # Compilar todos los insights\n",
    "    reporte = {\n",
    "        'metadata': {\n",
    "            'fecha_generacion': fecha_reporte,\n",
    "            'version': '1.0',\n",
    "            'analista': 'Sistema BI Automatizado',\n",
    "            'ciudades_analizadas': len(datasets['agregaciones_ciudad'])\n",
    "        },\n",
    "        'resumen_ejecutivo': {},\n",
    "        'contexto_economico': {},\n",
    "        'metricas_clave': {},\n",
    "        'insights_principales': [],\n",
    "        'recomendaciones': [],\n",
    "        'alertas': []\n",
    "    }\n",
    "    \n",
    "    # Resumen ejecutivo\n",
    "    total_listings = datasets['agregaciones_ciudad']['total_listings_mean'].sum()\n",
    "    ciudades = datasets['agregaciones_ciudad']['ciudad'].tolist()\n",
    "    \n",
    "    reporte['resumen_ejecutivo'] = {\n",
    "        'total_listings_analizados': int(total_listings),\n",
    "        'ciudades_principales': ciudades,\n",
    "        'periodo_analisis': '2024-2025',\n",
    "        'impacto_economico_estimado': f\"{kpis_contextuales['ingresos_estimados_airbnb_millones']:.1f}M €\"\n",
    "    }\n",
    "    \n",
    "    # Contexto económico\n",
    "    if 'datos_economicos_consolidados' in datasets and len(datos_economicos_ultimo_año) > 0:\n",
    "        reporte['contexto_economico'] = {\n",
    "            'gasto_turistico_nacional': f\"{datos_economicos_ultimo_año['Gasto_Millones']:,.0f}M €\",\n",
    "            'aportacion_pib_turismo': f\"{datos_economicos_ultimo_año['Aportacion_PIB_Millones']:,.0f}M €\",\n",
    "            'participacion_airbnb_gasto': f\"{kpis_contextuales['participacion_airbnb_en_gasto_turistico']:.3f}%\",\n",
    "            'participacion_airbnb_pib': f\"{kpis_contextuales['participacion_airbnb_en_pib_turistico']:.3f}%\"\n",
    "        }\n",
    "    \n",
    "    # Métricas clave por ciudad\n",
    "    metricas_por_ciudad = {}\n",
    "    for _, ciudad in datasets['agregaciones_ciudad'].iterrows():\n",
    "        metricas_por_ciudad[ciudad['ciudad']] = {\n",
    "            'total_listings': int(ciudad['total_listings_mean']),\n",
    "            'porcentaje_entire_home': f\"{ciudad['ratio_entire_home_pct_mean']:.1f}%\",\n",
    "            'impacto_relativo': f\"{(ciudad['total_listings_mean'] / total_listings * 100):.1f}%\"\n",
    "        }\n",
    "    \n",
    "    reporte['metricas_clave'] = metricas_por_ciudad\n",
    "    \n",
    "    # Insights principales\n",
    "    city_with_most_listings = datasets['agregaciones_ciudad'].loc[\n",
    "        datasets['agregaciones_ciudad']['total_listings_mean'].idxmax(), 'ciudad'\n",
    "    ]\n",
    "    \n",
    "    reporte['insights_principales'] = [\n",
    "        f\"🏆 {city_with_most_listings} lidera en número de listings con {metricas_por_ciudad[city_with_most_listings]['total_listings']:,} propiedades\",\n",
    "        f\"💰 Airbnb representa aproximadamente {kpis_contextuales['participacion_airbnb_en_gasto_turistico']:.3f}% del gasto turístico nacional\",\n",
    "        f\"⚡ Cada listing genera en promedio {kpis_contextuales['eficiencia_economica_por_listing']:.1f}k € anuales\",\n",
    "        f\"🏛️ El impacto en el PIB turístico es de {kpis_contextuales['participacion_airbnb_en_pib_turistico']:.3f}%\"\n",
    "    ]\n",
    "    \n",
    "    # Recomendaciones basadas en datos\n",
    "    reporte['recomendaciones'] = [\n",
    "        \"📊 Monitorear la concentración de listings en zonas centrales para evitar gentrificación\",\n",
    "        \"🏗️ Desarrollar políticas de vivienda equilibradas que consideren el impacto de Airbnb\",\n",
    "        \"💡 Implementar sistemas de datos en tiempo real para seguimiento continuo\",\n",
    "        f\"🎯 Optimizar la eficiencia económica en ciudades con menor rendimiento por listing\"\n",
    "    ]\n",
    "    \n",
    "    # Sistema de alertas automáticas\n",
    "    alertas_activas = []\n",
    "    \n",
    "    # Alerta por concentración alta\n",
    "    if any(ciudad['total_listings_mean'] / total_listings > 0.5 for _, ciudad in datasets['agregaciones_ciudad'].iterrows()):\\n        alertas_activas.append(\\\"⚠️ ALERTA: Alta concentración de listings en una ciudad (>50%)\\\")\\n    \\n    # Alerta por crecimiento económico\\n    if 'datos_economicos_consolidados' in datasets:\\n        datos_econ = datasets['datos_economicos_consolidados']\\n        if len(datos_econ) > 1 and 'Crecimiento_Gasto' in datos_econ.columns:\\n            ultimo_crecimiento = datos_econ['Crecimiento_Gasto'].iloc[-1]\\n            if ultimo_crecimiento < 0:\\n                alertas_activas.append(\\\"🔴 ALERTA: Decrecimiento en gasto turístico detectado\\\")\\n            elif ultimo_crecimiento > 20:\\n                alertas_activas.append(\\\"🟡 ALERTA: Crecimiento turístico muy acelerado (>20%)\\\")\\n    \\n    reporte['alertas'] = alertas_activas if alertas_activas else [\\\"✅ No hay alertas activas\\\"]\\n    \\n    # Guardar reporte en JSON y texto\\n    import json\\n    \\n    # Reporte JSON\\n    reporte_json_path = REPORTS_OUTPUT / f'reporte_ejecutivo_{datetime.now().strftime(\\\"%Y%m%d_%H%M%S\\\")}.json'\\n    with open(reporte_json_path, 'w', encoding='utf-8') as f:\\n        json.dump(reporte, f, indent=2, ensure_ascii=False)\\n    \\n    # Reporte texto legible\\n    reporte_txt_path = REPORTS_OUTPUT / f'reporte_ejecutivo_{datetime.now().strftime(\\\"%Y%m%d_%H%M%S\\\")}.txt'\\n    \\n    with open(reporte_txt_path, 'w', encoding='utf-8') as f:\\n        f.write(\\\"📊 REPORTE EJECUTIVO - IMPACTO URBANO DE AIRBNB\\\\n\\\")\\n        f.write(\\\"=\\\" * 60 + \\\"\\\\n\\\\n\\\")\\n        f.write(f\\\"📅 Generado: {fecha_reporte}\\\\n\\\")\\n        f.write(f\\\"🏙️ Ciudades analizadas: {', '.join(ciudades)}\\\\n\\\\n\\\")\\n        \\n        f.write(\\\"💼 RESUMEN EJECUTIVO\\\\n\\\")\\n        f.write(\\\"-\\\" * 30 + \\\"\\\\n\\\")\\n        for key, value in reporte['resumen_ejecutivo'].items():\\n            f.write(f\\\"• {key.replace('_', ' ').title()}: {value}\\\\n\\\")\\n        \\n        f.write(\\\"\\\\n🏛️ CONTEXTO ECONÓMICO\\\\n\\\")\\n        f.write(\\\"-\\\" * 30 + \\\"\\\\n\\\")\\n        for key, value in reporte['contexto_economico'].items():\\n            f.write(f\\\"• {key.replace('_', ' ').title()}: {value}\\\\n\\\")\\n        \\n        f.write(\\\"\\\\n💡 INSIGHTS PRINCIPALES\\\\n\\\")\\n        f.write(\\\"-\\\" * 30 + \\\"\\\\n\\\")\\n        for insight in reporte['insights_principales']:\\n            f.write(f\\\"{insight}\\\\n\\\")\\n        \\n        f.write(\\\"\\\\n📋 RECOMENDACIONES\\\\n\\\")\\n        f.write(\\\"-\\\" * 30 + \\\"\\\\n\\\")\\n        for rec in reporte['recomendaciones']:\\n            f.write(f\\\"{rec}\\\\n\\\")\\n        \\n        f.write(\\\"\\\\n🚨 ALERTAS\\\\n\\\")\\n        f.write(\\\"-\\\" * 30 + \\\"\\\\n\\\")\\n        for alerta in reporte['alertas']:\\n            f.write(f\\\"{alerta}\\\\n\\\")\\n    \\n    print(f\\\"✅ Reporte ejecutivo generado:\\\")\\n    print(f\\\"   📄 JSON: {reporte_json_path}\\\")\\n    print(f\\\"   📄 TXT: {reporte_txt_path}\\\")\\n    print(f\\\"   📊 Insights: {len(reporte['insights_principales'])}\\\")\\n    print(f\\\"   💡 Recomendaciones: {len(reporte['recomendaciones'])}\\\")\\n    print(f\\\"   🚨 Alertas: {len(reporte['alertas'])}\\\")\\n    \\n    return reporte, reporte_json_path, reporte_txt_path\\n\\n# Generar reporte automatizado\\nreporte_ejecutivo, ruta_json, ruta_txt = generar_reporte_ejecutivo_automatizado()\""
   ]
  },
  {
   "cell_type": "code",
   "execution_count": null,
   "id": "30a1c9ff",
   "metadata": {},
   "outputs": [],
   "source": [
    "# Verificar imports necesarios\n",
    "from datetime import datetime\n",
    "import json\n",
    "\n",
    "print(\"✅ Imports verificados\")\n",
    "print(f\"📅 Fecha actual: {datetime.now()}\")\n",
    "print(f\"📊 Datasets disponibles: {list(datasets.keys())}\")\n",
    "print(f\"🎯 KPIs contextuales: {list(kpis_contextuales.keys())}\")\n",
    "print(f\"📈 Datos económicos último año: {type(datos_economicos_ultimo_año)}\")"
   ]
  },
  {
   "cell_type": "code",
   "execution_count": null,
   "id": "7c381769",
   "metadata": {},
   "outputs": [],
   "source": [
    "# =============================================================================\n",
    "# SISTEMA DE ALERTAS AUTOMÁTICAS\n",
    "# =============================================================================\n",
    "\n",
    "def crear_sistema_alertas_automaticas():\n",
    "    \"\"\"\n",
    "    Crea un sistema de alertas automáticas basado en variaciones económicas y KPIs críticos\n",
    "    \"\"\"\n",
    "    print(\"🚨 CREANDO SISTEMA DE ALERTAS AUTOMÁTICAS...\")\n",
    "    \n",
    "    alertas = {\\n        'criticas': [],\\n        'moderadas': [],\\n        'informativas': [],\\n        'timestamp': datetime.now().strftime('%Y-%m-%d %H:%M:%S')\\n    }\\n    \\n    # ALERTAS CRÍTICAS (requieren acción inmediata)\\n    total_listings = datasets['agregaciones_ciudad']['total_listings_mean'].sum()\\n    \\n    # 1. Concentración excesiva en una ciudad\\n    for _, ciudad in datasets['agregaciones_ciudad'].iterrows():\\n        concentracion = ciudad['total_listings_mean'] / total_listings * 100\\n        if concentracion > 60:\\n            alertas['criticas'].append({\\n                'tipo': 'CONCENTRACIÓN_CRÍTICA',\\n                'mensaje': f\\\"🔴 {ciudad['ciudad']}: {concentracion:.1f}% de listings (>60%)\\\",\\n                'valor': concentracion,\\n                'umbral': 60,\\n                'recomendacion': \\\"Implementar políticas de distribución inmediatas\\\"\\n            })\\n    \\n    # 2. Impacto económico desproporcionado\\n    if kpis_contextuales['participacion_airbnb_en_gasto_turistico'] > 5:\\n        alertas['criticas'].append({\\n            'tipo': 'IMPACTO_ECONÓMICO_ALTO',\\n            'mensaje': f\\\"🔴 Participación en gasto turístico: {kpis_contextuales['participacion_airbnb_en_gasto_turistico']:.2f}% (>5%)\\\",\\n            'valor': kpis_contextuales['participacion_airbnb_en_gasto_turistico'],\\n            'umbral': 5,\\n            'recomendacion': \\\"Evaluar regulaciones para equilibrar el mercado\\\"\\n        })\\n    \\n    # ALERTAS MODERADAS (requieren monitoreo)\\n    \\n    # 3. Ratio alto de entire home\\n    for _, ciudad in datasets['agregaciones_ciudad'].iterrows():\\n        ratio_entire = ciudad['ratio_entire_home_pct_mean']\\n        if ratio_entire > 70:\\n            alertas['moderadas'].append({\\n                'tipo': 'RATIO_ENTIRE_HOME_ALTO',\\n                'mensaje': f\\\"🟡 {ciudad['ciudad']}: {ratio_entire:.1f}% entire home (>70%)\\\",\\n                'valor': ratio_entire,\\n                'umbral': 70,\\n                'recomendacion': \\\"Monitorear impacto en vivienda residencial\\\"\\n            })\\n    \\n    # 4. Crecimiento económico anómalo\\n    if 'datos_economicos_consolidados' in datasets:\\n        datos_econ = datasets['datos_economicos_consolidados']\\n        if len(datos_econ) > 1 and 'Crecimiento_Gasto' in datos_econ.columns:\\n            ultimo_crecimiento = datos_econ['Crecimiento_Gasto'].iloc[-1]\\n            if abs(ultimo_crecimiento) > 25:\\n                alertas['moderadas'].append({\\n                    'tipo': 'CRECIMIENTO_ANÓMALO',\\n                    'mensaje': f\\\"🟡 Crecimiento gasto turístico: {ultimo_crecimiento:.1f}% (|>25%|)\\\",\\n                    'valor': ultimo_crecimiento,\\n                    'umbral': 25,\\n                    'recomendacion': \\\"Analizar factores externos que influyen en el turismo\\\"\\n                })\\n    \\n    # 5. Eficiencia económica baja\\n    eficiencia_promedio = kpis_contextuales['eficiencia_economica_por_listing']\\n    if eficiencia_promedio < 15:  # Menos de 15k € por listing\\n        alertas['moderadas'].append({\\n            'tipo': 'EFICIENCIA_BAJA',\\n            'mensaje': f\\\"🟡 Eficiencia promedio: {eficiencia_promedio:.1f}k €/listing (<15k)\\\",\\n            'valor': eficiencia_promedio,\\n            'umbral': 15,\\n            'recomendacion': \\\"Optimizar estrategias de pricing y ocupación\\\"\\n        })\\n    \\n    # ALERTAS INFORMATIVAS (para seguimiento general)\\n    \\n    # 6. Tendencia económica positiva\\n    if 'datos_economicos_consolidados' in datasets:\\n        datos_econ = datasets['datos_economicos_consolidados']\\n        if len(datos_econ) > 1 and 'Crecimiento_Gasto' in datos_econ.columns:\\n            ultimo_crecimiento = datos_econ['Crecimiento_Gasto'].iloc[-1]\\n            if 5 < ultimo_crecimiento <= 15:\\n                alertas['informativas'].append({\\n                    'tipo': 'TENDENCIA_POSITIVA',\\n                    'mensaje': f\\\"💚 Crecimiento turístico saludable: {ultimo_crecimiento:.1f}%\\\",\\n                    'valor': ultimo_crecimiento,\\n                    'recomendacion': \\\"Mantener estrategias actuales\\\"\\n                })\\n    \\n    # 7. Distribución equilibrada\\n    max_concentracion = datasets['agregaciones_ciudad']['total_listings_mean'].max() / total_listings * 100\\n    if max_concentracion < 40:\\n        alertas['informativas'].append({\\n            'tipo': 'DISTRIBUCIÓN_EQUILIBRADA',\\n            'mensaje': f\\\"💚 Distribución equilibrada: máx concentración {max_concentracion:.1f}%\\\",\\n            'valor': max_concentracion,\\n            'recomendacion': \\\"Continuar políticas de distribución balanceada\\\"\\n        })\\n    \\n    # Crear dashboard de alertas\\n    fig = go.Figure()\\n    \\n    # Agregar métricas de alerta\\n    categorias = ['Críticas', 'Moderadas', 'Informativas']\\n    cantidades = [len(alertas['criticas']), len(alertas['moderadas']), len(alertas['informativas'])]\\n    colores = [COLORES_CORPORATIVOS['critico'], COLORES_CORPORATIVOS['alto'], COLORES_CORPORATIVOS['bajo']]\\n    \\n    fig.add_trace(go.Bar(\\n        x=categorias,\\n        y=cantidades,\\n        marker_color=colores,\\n        text=cantidades,\\n        textposition=\\\"outside\\\",\\n        name=\\\"Alertas Activas\\\"\\n    ))\\n    \\n    fig.update_layout(\\n        title={\\n            'text': f\\\"🚨 SISTEMA DE ALERTAS - {datetime.now().strftime('%Y-%m-%d %H:%M')}\\\",\\n            'x': 0.5,\\n            'font': {'size': 18, 'color': COLORES_CORPORATIVOS['texto']}\\n        },\\n        xaxis_title=\\\"Tipo de Alerta\\\",\\n        yaxis_title=\\\"Cantidad\\\",\\n        paper_bgcolor=COLORES_CORPORATIVOS['fondo'],\\n        height=400\\n    )\\n    \\n    # Guardar alertas\\n    alertas_path = REPORTS_OUTPUT / f'alertas_automaticas_{datetime.now().strftime(\\\"%Y%m%d_%H%M%S\\\")}.json'\\n    import json\\n    with open(alertas_path, 'w', encoding='utf-8') as f:\\n        json.dump(alertas, f, indent=2, ensure_ascii=False)\\n    \\n    # Guardar dashboard\\n    dashboard_alertas_path = DASHBOARDS_OUTPUT / 'dashboard_alertas.html'\\n    fig.write_html(dashboard_alertas_path)\\n    \\n    # Resumen de alertas\\n    print(f\\\"✅ Sistema de alertas creado:\\\")\\n    print(f\\\"   🔴 Alertas críticas: {len(alertas['criticas'])}\\\")\\n    print(f\\\"   🟡 Alertas moderadas: {len(alertas['moderadas'])}\\\")\\n    print(f\\\"   💚 Alertas informativas: {len(alertas['informativas'])}\\\")\\n    print(f\\\"   📄 Guardado en: {alertas_path}\\\")\\n    print(f\\\"   📊 Dashboard: {dashboard_alertas_path}\\\")\\n    \\n    # Mostrar alertas críticas\\n    if alertas['criticas']:\\n        print(\\\"\\\\n🚨 ALERTAS CRÍTICAS ACTIVAS:\\\")\\n        for alerta in alertas['criticas']:\\n            print(f\\\"   {alerta['mensaje']}\\\")\\n            print(f\\\"   💡 {alerta['recomendacion']}\\\")\\n    \\n    # Mostrar dashboard\\n    fig.show()\\n    \\n    return alertas, fig\\n\\n# Crear sistema de alertas\\nsistema_alertas, dashboard_alertas = crear_sistema_alertas_automaticas()\""
   ]
  },
  {
   "cell_type": "code",
   "execution_count": null,
   "id": "d2ca659f",
   "metadata": {},
   "outputs": [],
   "source": [
    "# =============================================================================\n",
    "# EXPORTACIÓN FINAL DE INSIGHTS Y VISUALIZACIONES\n",
    "# =============================================================================\n",
    "\n",
    "def exportar_insights_presentaciones_ejecutivas():\n",
    "    \"\"\"\n",
    "    Exporta todos los insights y visualizaciones en formatos preparados para presentaciones ejecutivas\n",
    "    \"\"\"\n",
    "    print(\"📤 EXPORTANDO INSIGHTS PARA PRESENTACIONES EJECUTIVAS...\")\n",
    "    \n",
    "    # Crear directorio de presentaciones\\n    presentaciones_dir = OUTPUTS / 'presentaciones_ejecutivas'\\n    presentaciones_dir.mkdir(exist_ok=True)\\n    \\n    # Exportar datos clave en Excel para ejecutivos\\n    excel_path = presentaciones_dir / f'datos_ejecutivos_{datetime.now().strftime(\\\"%Y%m%d\\\")}.xlsx'\\n    \\n    with pd.ExcelWriter(excel_path, engine='openpyxl') as writer:\\n        # Hoja 1: Resumen ejecutivo\\n        resumen_data = {\\n            'Métrica': [\\n                'Total Listings Analizados',\\n                'Ciudades Principales',\\n                'Ingresos Estimados Airbnb (M€)',\\n                'Participación en Gasto Turístico (%)',\\n                'Participación en PIB Turístico (%)',\\n                'Eficiencia por Listing (k€/año)'\\n            ],\\n            'Valor': [\\n                f\\\"{datasets['agregaciones_ciudad']['total_listings_mean'].sum():,.0f}\\\",\\n                ', '.join(datasets['agregaciones_ciudad']['ciudad'].tolist()),\\n                f\\\"{kpis_contextuales['ingresos_estimados_airbnb_millones']:.1f}\\\",\\n                f\\\"{kpis_contextuales['participacion_airbnb_en_gasto_turistico']:.3f}\\\",\\n                f\\\"{kpis_contextuales['participacion_airbnb_en_pib_turistico']:.3f}\\\",\\n                f\\\"{kpis_contextuales['eficiencia_economica_por_listing']:.1f}\\\"\\n            ]\\n        }\\n        pd.DataFrame(resumen_data).to_excel(writer, sheet_name='Resumen_Ejecutivo', index=False)\\n        \\n        # Hoja 2: Datos por ciudad\\n        datasets['agregaciones_ciudad'].to_excel(writer, sheet_name='Datos_Por_Ciudad', index=False)\\n        \\n        # Hoja 3: Contexto económico\\n        if 'datos_economicos_consolidados' in datasets:\\n            datasets['datos_economicos_consolidados'].to_excel(writer, sheet_name='Contexto_Economico', index=False)\\n    \\n    # Crear presentación en PowerPoint (simulado con markdown)\\n    presentacion_md_path = presentaciones_dir / f'presentacion_ejecutiva_{datetime.now().strftime(\\\"%Y%m%d\\\")}.md'\\n    \\n    with open(presentacion_md_path, 'w', encoding='utf-8') as f:\\n        f.write(\\\"# 📊 PRESENTACIÓN EJECUTIVA: IMPACTO URBANO DE AIRBNB\\\\n\\\\n\\\")\\n        f.write(f\\\"**Fecha:** {datetime.now().strftime('%d de %B de %Y')}\\\\n\\\\n\\\")\\n        \\n        f.write(\\\"## 🎯 RESUMEN EJECUTIVO\\\\n\\\\n\\\")\\n        f.write(f\\\"- **Total de listings analizados:** {datasets['agregaciones_ciudad']['total_listings_mean'].sum():,.0f}\\\\n\\\")\\n        f.write(f\\\"- **Ciudades principales:** {', '.join(datasets['agregaciones_ciudad']['ciudad'].tolist())}\\\\n\\\")\\n        f.write(f\\\"- **Impacto económico estimado:** {kpis_contextuales['ingresos_estimados_airbnb_millones']:.1f}M €\\\\n\\\")\\n        f.write(f\\\"- **Eficiencia por listing:** {kpis_contextuales['eficiencia_economica_por_listing']:.1f}k €/año\\\\n\\\\n\\\")\\n        \\n        f.write(\\\"## 🏛️ CONTEXTO ECONÓMICO NACIONAL\\\\n\\\\n\\\")\\n        if len(datos_economicos_ultimo_año) > 0:\\n            f.write(f\\\"- **Gasto turístico nacional:** {datos_economicos_ultimo_año['Gasto_Millones']:,.0f}M €\\\\n\\\")\\n            f.write(f\\\"- **Aportación PIB turístico:** {datos_economicos_ultimo_año['Aportacion_PIB_Millones']:,.0f}M €\\\\n\\\")\\n            f.write(f\\\"- **Participación Airbnb en gasto:** {kpis_contextuales['participacion_airbnb_en_gasto_turistico']:.3f}%\\\\n\\\")\\n            f.write(f\\\"- **Participación Airbnb en PIB:** {kpis_contextuales['participacion_airbnb_en_pib_turistico']:.3f}%\\\\n\\\\n\\\")\\n        \\n        f.write(\\\"## 📈 DISTRIBUCIÓN POR CIUDAD\\\\n\\\\n\\\")\\n        for _, ciudad in datasets['agregaciones_ciudad'].iterrows():\\n            participacion = ciudad['total_listings_mean'] / datasets['agregaciones_ciudad']['total_listings_mean'].sum() * 100\\n            f.write(f\\\"### {ciudad['ciudad']}\\\\n\\\")\\n            f.write(f\\\"- **Listings:** {ciudad['total_listings_mean']:,.0f} ({participacion:.1f}%)\\\\n\\\")\\n            f.write(f\\\"- **% Entire Home:** {ciudad['ratio_entire_home_pct_mean']:.1f}%\\\\n\\\\n\\\")\\n        \\n        f.write(\\\"## 💡 INSIGHTS PRINCIPALES\\\\n\\\\n\\\")\\n        city_leader = datasets['agregaciones_ciudad'].loc[\\n            datasets['agregaciones_ciudad']['total_listings_mean'].idxmax(), 'ciudad'\\n        ]\\n        f.write(f\\\"1. **{city_leader} lidera** en número de listings\\\\n\\\")\\n        f.write(f\\\"2. **Impacto económico moderado** ({kpis_contextuales['participacion_airbnb_en_gasto_turistico']:.3f}% del gasto turístico)\\\\n\\\")\\n        f.write(f\\\"3. **Alta eficiencia** por listing ({kpis_contextuales['eficiencia_economica_por_listing']:.1f}k €/año)\\\\n\\\")\\n        f.write(f\\\"4. **Contexto económico favorable** para el sector turístico\\\\n\\\\n\\\")\\n        \\n        f.write(\\\"## 📋 RECOMENDACIONES ESTRATÉGICAS\\\\n\\\\n\\\")\\n        f.write(\\\"1. **Monitoreo continuo** de la concentración de listings\\\\n\\\")\\n        f.write(\\\"2. **Políticas de vivienda equilibradas** que consideren el impacto de Airbnb\\\\n\\\")\\n        f.write(\\\"3. **Optimización de la eficiencia económica** en todas las ciudades\\\\n\\\")\\n        f.write(\\\"4. **Implementación de dashboards** en tiempo real para toma de decisiones\\\\n\\\\n\\\")\\n    \\n    # Crear resumen de archivos generados\\n    archivos_generados = {\\n        'dashboards': [],\\n        'reportes': [],\\n        'presentaciones': [],\\n        'datasets': []\\n    }\\n    \\n    # Listar archivos generados\\n    if DASHBOARDS_OUTPUT.exists():\\n        archivos_generados['dashboards'] = [f.name for f in DASHBOARDS_OUTPUT.glob('*.html')]\\n    \\n    if REPORTS_OUTPUT.exists():\\n        archivos_generados['reportes'] = [f.name for f in REPORTS_OUTPUT.glob('*')]\\n    \\n    archivos_generados['presentaciones'] = [excel_path.name, presentacion_md_path.name]\\n    \\n    # Dataset final consolidado\\n    dataset_final_path = presentaciones_dir / 'dataset_consolidado_final.csv'\\n    \\n    # Crear dataset final que combine todo\\n    dataset_final = datasets['agregaciones_ciudad'].copy()\\n    dataset_final['fecha_analisis'] = datetime.now().strftime('%Y-%m-%d')\\n    dataset_final['ingresos_estimados_millones'] = kpis_contextuales['ingresos_estimados_airbnb_millones']\\n    dataset_final['participacion_gasto_turistico'] = kpis_contextuales['participacion_airbnb_en_gasto_turistico']\\n    dataset_final['eficiencia_por_listing'] = kpis_contextuales['eficiencia_economica_por_listing']\\n    \\n    dataset_final.to_csv(dataset_final_path, index=False)\\n    archivos_generados['datasets'] = [dataset_final_path.name]\\n    \\n    # Crear índice final\\n    indice_path = presentaciones_dir / 'INDICE_ARCHIVOS_GENERADOS.txt'\\n    with open(indice_path, 'w', encoding='utf-8') as f:\\n        f.write(\\\"📁 ÍNDICE DE ARCHIVOS GENERADOS - PROYECTO AIRBNB\\\\n\\\")\\n        f.write(\\\"=\\\" * 60 + \\\"\\\\n\\\\n\\\")\\n        f.write(f\\\"Fecha de generación: {datetime.now().strftime('%Y-%m-%d %H:%M:%S')}\\\\n\\\\n\\\")\\n        \\n        for categoria, archivos in archivos_generados.items():\\n            if archivos:\\n                f.write(f\\\"📂 {categoria.upper()}:\\\\n\\\")\\n                for archivo in archivos:\\n                    f.write(f\\\"   - {archivo}\\\\n\\\")\\n                f.write(\\\"\\\\n\\\")\\n    \\n    print(f\\\"✅ Exportación completada:\\\")\\n    print(f\\\"   📊 Excel ejecutivo: {excel_path}\\\")\\n    print(f\\\"   📄 Presentación MD: {presentacion_md_path}\\\")\\n    print(f\\\"   📋 Dataset final: {dataset_final_path}\\\")\\n    print(f\\\"   📁 Índice: {indice_path}\\\")\\n    print(f\\\"   📈 Total dashboards: {len(archivos_generados['dashboards'])}\\\")\\n    print(f\\\"   📋 Total reportes: {len(archivos_generados['reportes'])}\\\")\\n    \\n    return {\\n        'excel_path': excel_path,\\n        'presentacion_path': presentacion_md_path,\\n        'dataset_final_path': dataset_final_path,\\n        'archivos_generados': archivos_generados\\n    }\\n\\n# Exportar todo para presentaciones ejecutivas\\nresultado_exportacion = exportar_insights_presentaciones_ejecutivas()\""
   ]
  }
 ],
 "metadata": {
  "kernelspec": {
   "display_name": "Python 3",
   "language": "python",
   "name": "python3"
  },
  "language_info": {
   "codemirror_mode": {
    "name": "ipython",
    "version": 3
   },
   "file_extension": ".py",
   "mimetype": "text/x-python",
   "name": "python",
   "nbconvert_exporter": "python",
   "pygments_lexer": "ipython3",
   "version": "3.13.3"
  }
 },
 "nbformat": 4,
 "nbformat_minor": 5
}
