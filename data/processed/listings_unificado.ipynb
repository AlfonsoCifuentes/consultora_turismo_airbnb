# 📊 Dataset `listings_unificado.csv` - Documentación de Columnas

## 🎯 Descripción General

Dataset unificado de Airbnb para análisis de turismo urbano, conteniendo **61,289 registros** de Barcelona, Madrid y Mallorca. Este archivo representa la versión consolidada de datos básicos con precios utilizados por la aplicación Streamlit.

---

## 📋 Estructura del Dataset

**Dimensiones**: 61,289 filas × 11 columnas  
**Ciudades**: Barcelona, Madrid, Mallorca  
**Propósito**: Dataset operativo para app Streamlit con análisis de precios  
**Características**: Versión optimizada para visualizaciones y métricas económicas

---

## 🔢 Columnas del Dataset

| # | Columna | Tipo | Descripción |
|---|---------|------|-------------|
| 1 | `id` | **int64** | **Identificador único** - ID principal del listing en Airbnb |
| 2 | `ciudad` | **object** | **Ciudad** - Barcelona, Madrid o Mallorca |
| 3 | `name` | **object** | **Nombre del listing** - Título de la propiedad en Airbnb |
| 4 | `neighbourhood_cleansed` | **object** | **Barrio normalizado** - Nombre del barrio/zona geográfica |
| 5 | `distrito` | **object** | **Distrito administrativo** - Agrupación de barrios por distrito |
| 6 | `latitude` | **float64** | **Latitud** - Coordenada geográfica (precisión ~100m) |
| 7 | `longitude` | **float64** | **Longitud** - Coordenada geográfica (precisión ~100m) |
| 8 | `room_type` | **object** | **Tipo de habitación** - Entire home/apt, Private room, Shared room |
| 9 | `minimum_nights` | **int64** | **Estancia mínima** - Número mínimo de noches requeridas |
| 10 | `availability_365` | **int64** | **Disponibilidad anual** - Días disponibles en los próximos 365 días |
| 11 | `price` | **float64** | **Precio por noche** - Precio en euros para una noche de estancia |

---

## 🔄 Funcionamiento con la Aplicación Streamlit

### **📥 Carga y Filtrado de Datos**
La aplicación (`app_unificado.py`) aplica filtros estrictos al cargar este dataset:

1. **🔢 Conversión de precios**: `price` se convierte a numérico
2. **🏘️ Datos completos**: Elimina registros sin ciudad/barrio
3. **💰 Precios válidos**: Elimina registros sin precio o precio ≤ 0
4. **🚫 Precios extremos**: Filtra precios ≥ 6501€/noche

**Resultado**: De ~61k registros iniciales → ~33k registros válidos para análisis

### **📊 Métricas Calculadas**
- **Ocupación**: `(365 - availability_365) / 365 * 100`
- **Precio medio**: Promedio ponderado de `price` por ciudad/barrio
- **Impacto económico**: `total_listings × precio_medio × ocupación × días_año`
- **Densidad**: Conteo de listings por neighbourhood_cleansed

### **🗺️ Visualizaciones Generadas**
- **Mapas interactivos** con precios por barrio
- **Análisis de distribución** geográfica y económica
- **KPIs principales** por ciudad y distrito
- **Comparativas** de tipos de alojamiento

---

## 📈 Características Técnicas

### **Rangos de Valores Esperados**
- **`price`**: 1-6500€ (tras filtrado de extremos)
- **`availability_365`**: 0-365 días
- **Coordenadas**: Validadas dentro de España

### **🔧 Calidad de Datos Post-Filtrado**
- ✅ **Datos completos** en todas las columnas críticas
- ✅ **Precios realistas** (1-6500€/noche)
- ✅ **Consistencia geográfica** validada
- ✅ **Sin valores nulos** en campos operativos

---

**💡 Nota**: Este dataset es la fuente principal para `app_unificado.py` y `app_nuevo.py`. Los filtros aplicados garantizan análisis robustos con datos válidos.
