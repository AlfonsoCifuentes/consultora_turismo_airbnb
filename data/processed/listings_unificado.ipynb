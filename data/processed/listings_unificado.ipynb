{
 "cells": [
  {
   "cell_type": "markdown",
   "id": "320dba91",
   "metadata": {},
   "source": [
    "# 📊 Dataset `listings_unificado.csv` - Documentación de Columnas\n",
    "\n",
    "## 🎯 Descripción General\n",
    "\n",
    "Dataset unificado de Airbnb para análisis de turismo urbano, conteniendo **61,289 registros** de Barcelona, Madrid y Mallorca. Este archivo representa la versión consolidada de datos básicos utilizados por la aplicación Streamlit.\n",
    "\n",
    "---\n",
    "\n",
    "## 📋 Estructura del Dataset\n",
    "\n",
    "**Dimensiones**: 61,289 filas × 10 columnas  \n",
    "**Ciudades**: Barcelona, Madrid, Mallorca  \n",
    "**Propósito**: Dataset operativo para app Streamlit  \n",
    "**Características**: Versión simplificada y optimizada para visualizaciones\n",
    "\n",
    "---\n",
    "\n",
    "## 🔢 Columnas del Dataset\n",
    "\n",
    "| # | Columna | Tipo | Descripción |\n",
    "|---|---------|------|-------------|\n",
    "| 1 | `id` | **int64** | **Identificador único** - ID principal del listing en Airbnb |\n",
    "| 2 | `ciudad` | **object** | **Ciudad** - Barcelona, Madrid o Mallorca |\n",
    "| 3 | `name` | **object** | **Nombre del listing** - Título de la propiedad en Airbnb |\n",
    "| 4 | `neighbourhood_cleansed` | **object** | **Barrio normalizado** - Nombre del barrio/zona geográfica |\n",
    "| 5 | `distrito` | **object** | **Distrito administrativo** - Agrupación de barrios por distrito |\n",
    "| 6 | `latitude` | **float64** | **Latitud** - Coordenada geográfica (precisión ~100m) |\n",
    "| 7 | `longitude` | **float64** | **Longitud** - Coordenada geográfica (precisión ~100m) |\n",
    "| 8 | `room_type` | **object** | **Tipo de habitación** - Entire home/apt, Private room, Shared room |\n",
    "| 9 | `minimum_nights` | **int64** | **Estancia mínima** - Número mínimo de noches requeridas |\n",
    "| 10 | `availability_365` | **int64** | **Disponibilidad anual** - Días disponibles en los próximos 365 días |\n",
    "\n",
    "---\n",
    "\n",
    "## 📈 Características Técnicas\n",
    "\n",
    "### **Rangos de Valores Esperados**\n",
    "- **`id`**: Números únicos de 6-8 dígitos\n",
    "- **`ciudad`**: 3 valores únicos (Barcelona, Madrid, Mallorca)  \n",
    "- **`latitude`**: ~39.5-42.0 (rango geográfico España)\n",
    "- **`longitude`**: ~1.4-4.4 (rango geográfico España)\n",
    "- **`room_type`**: 3 categorías principales\n",
    "- **`minimum_nights`**: 1-1250 días (casos extremos para alquiler largo plazo)\n",
    "- **`availability_365`**: 0-365 días\n",
    "\n",
    "### **Calidad de Datos**\n",
    "- ✅ **Sin valores nulos** en columnas críticas (id, ciudad, coordenadas)\n",
    "- ✅ **Coordenadas validadas** dentro de rangos geográficos\n",
    "- ✅ **Consistencia territorial** entre barrio y distrito\n",
    "- ⚠️ **Algunos nulos** posibles en name y neighbourhood_cleansed\n",
    "\n",
    "---\n",
    "\n",
    "## 🎯 Uso en la Aplicación\n",
    "\n",
    "### **Métricas Calculadas**\n",
    "1. **Ocupación**: `(365 - availability_365) / 365 * 100`\n",
    "2. **Densidad por barrio**: Conteo de listings por neighbourhood_cleansed\n",
    "3. **Distribución geográfica**: Basada en latitude/longitude\n",
    "4. **Tipos de alojamiento**: Análisis de room_type\n",
    "\n",
    "### **Visualizaciones Generadas**\n",
    "- 🗺️ **Mapas interactivos** usando coordenadas\n",
    "- 📊 **Gráficos por distrito** y barrio  \n",
    "- 📈 **Análisis de disponibilidad** temporal\n",
    "- 🏠 **Segmentación por tipo** de habitación\n",
    "\n",
    "---\n",
    "\n",
    "**💡 Nota**: Este dataset es la versión operativa utilizada por `app_nuevo.py`. Para análisis más detallados con precios y métricas avanzadas, usar `listings_nuevo.csv`."
   ]
  },
  {
   "cell_type": "code",
   "execution_count": 1,
   "id": "0ab64fdf",
   "metadata": {},
   "outputs": [],
   "source": [
    "import pandas as pd\n"
   ]
  },
  {
   "cell_type": "code",
   "execution_count": 2,
   "id": "302d1661",
   "metadata": {},
   "outputs": [],
   "source": [
    "df = pd.read_csv('listings_unificado.csv')\n"
   ]
  },
  {
   "cell_type": "code",
   "execution_count": 7,
   "id": "3f95804a",
   "metadata": {},
   "outputs": [
    {
     "name": "stdout",
     "output_type": "stream",
     "text": [
      "<class 'pandas.core.frame.DataFrame'>\n",
      "RangeIndex: 61114 entries, 0 to 61113\n",
      "Data columns (total 10 columns):\n",
      " #   Column                  Non-Null Count  Dtype  \n",
      "---  ------                  --------------  -----  \n",
      " 0   id                      61114 non-null  int64  \n",
      " 1   ciudad                  61114 non-null  object \n",
      " 2   name                    61114 non-null  object \n",
      " 3   neighbourhood_cleansed  61114 non-null  object \n",
      " 4   distrito                61114 non-null  object \n",
      " 5   latitude                61114 non-null  float64\n",
      " 6   longitude               61114 non-null  float64\n",
      " 7   room_type               61114 non-null  object \n",
      " 8   minimum_nights          61114 non-null  int64  \n",
      " 9   availability_365        61114 non-null  int64  \n",
      "dtypes: float64(2), int64(3), object(5)\n",
      "memory usage: 4.7+ MB\n"
     ]
    }
   ],
   "source": [
    "df.info()"
   ]
  },
  {
   "cell_type": "code",
   "execution_count": null,
   "id": "76a79a45",
   "metadata": {},
   "outputs": [
    {
     "data": {
      "text/plain": [
       "21841               Trafalgar\n",
       "16869         Palos de Moguer\n",
       "3075                Trafalgar\n",
       "40789    el Putxet i el Farró\n",
       "15325              Guindalera\n",
       "18200           Valdeacederas\n",
       "31745             Sant Antoni\n",
       "23186                 Legazpi\n",
       "47713                Pollença\n",
       "3181              Embajadores\n",
       "Name: neighbourhood_cleansed, dtype: object"
      ]
     },
     "execution_count": 9,
     "metadata": {},
     "output_type": "execute_result"
    }
   ],
   "source": [
    "# muestra 10 filas aleatorias de neighbourhood_cleansed\n",
    "df['neighbourhood_cleansed'].sample(10, random_state=42)\n",
    "\n",
    "## 💰 **SÍ, app_nuevo.py muestra datos de precios y costes**\n",
    "\n",
    "### **1. Métricas de Precios en Dashboard Principal** 📊\n",
    "- **💰 Precio Medio**: `{precio_medio:.0f}€` por noche\n",
    "- **💼 Impacto Económico**: `{impacto_economico:.0f}M€` anual estimado\n",
    "\n",
    "### **2. Fuentes de Datos de Precios** 📂\n",
    "La app intenta cargar precios desde múltiples fuentes:\n",
    "```python\n",
    "# Archivos que busca para precios:\n",
    "- \"precios_inmobiliarios.csv\"\n",
    "- \"listings_precios\" (dataset principal con precios)\n",
    "- \"pre_airbnb\" (datos con precios reales)\n",
    "```\n",
    "\n",
    "### **3. Dónde Aparecen los Precios** 🗺️\n",
    "1. **Mapas interactivos**: \n",
    "   - `precio_medio_euros` en tooltips/hover\n",
    "   - Información de precios por barrio\n",
    "\n",
    "2. **Cards de barrios**:\n",
    "   - `💰 Precio Medio: €{precio_medio}/noche`\n",
    "\n",
    "3. **KPIs principales**:\n",
    "   - Precio medio ponderado por ciudad\n",
    "   - Impacto económico calculado\n",
    "\n",
    "### **4. Cálculo de Métricas Económicas** 🧮\n",
    "```python\n",
    "# Fórmula del impacto económico:\n",
    "pib_airbnb_diario = total_listings * precio_medio * ocupacion_media\n",
    "impacto_anual = (pib_airbnb_diario * dias_operativos) / 1_000_000  # En millones\n",
    "```\n",
    "\n",
    "### **5. Valores por Defecto** ⚙️\n",
    "Cuando no hay datos reales disponibles:\n",
    "- **Precio medio**: 85€/noche (promedio España)\n",
    "- **Impacto económico**: 750M€ (estimación sectorial)\n",
    "\n",
    "### **🚨 PROBLEMA IDENTIFICADO**\n",
    "**`listings_unificado.csv` NO tiene columnas de precios**, por lo que la app:\n",
    "- ✅ **Carga la estructura** correctamente\n",
    "- ❌ **No puede mostrar precios reales** de este dataset\n",
    "- 🔄 **Usa valores por defecto** o datos de otros archivos si existen\n",
    "\n",
    "### **💡 Recomendación**\n",
    "Para que los precios funcionen completamente, la app necesita:\n",
    "1. `listings_nuevo.csv` (que SÍ tiene columna `price`)\n",
    "2. O archivos complementarios como `precios_inmobiliarios.csv`\n",
    "3. O datos en `pre_airbnb` con precios reales"
   ]
  }
 ],
 "metadata": {
  "kernelspec": {
   "display_name": "Python 3",
   "language": "python",
   "name": "python3"
  },
  "language_info": {
   "codemirror_mode": {
    "name": "ipython",
    "version": 3
   },
   "file_extension": ".py",
   "mimetype": "text/x-python",
   "name": "python",
   "nbconvert_exporter": "python",
   "pygments_lexer": "ipython3",
   "version": "3.13.2"
  }
 },
 "nbformat": 4,
 "nbformat_minor": 5
}
