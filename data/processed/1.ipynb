{
 "cells": [
  {
   "cell_type": "code",
   "execution_count": 3,
   "id": "2b640578",
   "metadata": {},
   "outputs": [],
   "source": [
    "import pandas as pd\n",
    "import numpy as np\n"
   ]
  },
  {
   "cell_type": "code",
   "execution_count": 4,
   "id": "d6a4c539",
   "metadata": {},
   "outputs": [],
   "source": [
    "df = pd.read_csv('listings_nuevo.csv')"
   ]
  },
  {
   "cell_type": "code",
   "execution_count": 5,
   "id": "c74366d0",
   "metadata": {},
   "outputs": [
    {
     "name": "stdout",
     "output_type": "stream",
     "text": [
      "<class 'pandas.core.frame.DataFrame'>\n",
      "RangeIndex: 61114 entries, 0 to 61113\n",
      "Data columns (total 24 columns):\n",
      " #   Column                      Non-Null Count  Dtype  \n",
      "---  ------                      --------------  -----  \n",
      " 0   id                          61114 non-null  int64  \n",
      " 1   host_id                     61114 non-null  int64  \n",
      " 2   host_listings               61114 non-null  int64  \n",
      " 3   latitude                    61114 non-null  float64\n",
      " 4   longitude                   61114 non-null  float64\n",
      " 5   neighbourhood_group         61114 non-null  object \n",
      " 6   property_type               61114 non-null  object \n",
      " 7   room_type                   61114 non-null  object \n",
      " 8   accommodates                61114 non-null  int64  \n",
      " 9   license                     61114 non-null  object \n",
      " 10  superhost                   61114 non-null  bool   \n",
      " 11  instant_bookable            61114 non-null  bool   \n",
      " 12  minimum_nights              61114 non-null  int64  \n",
      " 13  maximum_nights              61114 non-null  int64  \n",
      " 14  availability_365            61114 non-null  int64  \n",
      " 15  availability_rate_calendar  61114 non-null  float64\n",
      " 16  availability_summer         61114 non-null  float64\n",
      " 17  availability_weekend        61114 non-null  float64\n",
      " 18  price                       33977 non-null  float64\n",
      " 19  price_volatility            61112 non-null  float64\n",
      " 20  summer_premium              61112 non-null  float64\n",
      " 21  tourism_intensity           61114 non-null  float64\n",
      " 22  seasonal_ratio              61112 non-null  float64\n",
      " 23  city                        61114 non-null  object \n",
      "dtypes: bool(2), float64(10), int64(7), object(5)\n",
      "memory usage: 10.4+ MB\n"
     ]
    }
   ],
   "source": [
    "df.info()"
   ]
  }
 ],
 "metadata": {
  "kernelspec": {
   "display_name": "Python 3",
   "language": "python",
   "name": "python3"
  },
  "language_info": {
   "codemirror_mode": {
    "name": "ipython",
    "version": 3
   },
   "file_extension": ".py",
   "mimetype": "text/x-python",
   "name": "python",
   "nbconvert_exporter": "python",
   "pygments_lexer": "ipython3",
   "version": "3.13.2"
  }
 },
 "nbformat": 4,
 "nbformat_minor": 5
}
